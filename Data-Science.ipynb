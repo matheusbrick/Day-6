{
 "cells": [
  {
   "cell_type": "code",
   "execution_count": 48,
   "id": "a34fd07b",
   "metadata": {
    "ExecuteTime": {
     "end_time": "2021-10-16T19:39:47.821019Z",
     "start_time": "2021-10-16T19:39:47.804021Z"
    }
   },
   "outputs": [],
   "source": [
    "import pandas as pd\n",
    "import numpy as np"
   ]
  },
  {
   "cell_type": "code",
   "execution_count": 49,
   "id": "4772dbd1",
   "metadata": {
    "ExecuteTime": {
     "end_time": "2021-10-16T19:39:48.005019Z",
     "start_time": "2021-10-16T19:39:47.822022Z"
    }
   },
   "outputs": [],
   "source": [
    "df_features = pd.read_csv('features.csv')\n",
    "df_stores = pd.read_csv('stores.csv')\n",
    "df_train = pd.read_csv('train.csv')"
   ]
  },
  {
   "cell_type": "code",
   "execution_count": 50,
   "id": "e99dd43e",
   "metadata": {
    "ExecuteTime": {
     "end_time": "2021-10-16T19:39:48.035018Z",
     "start_time": "2021-10-16T19:39:48.006018Z"
    }
   },
   "outputs": [
    {
     "data": {
      "text/html": [
       "<div>\n",
       "<style scoped>\n",
       "    .dataframe tbody tr th:only-of-type {\n",
       "        vertical-align: middle;\n",
       "    }\n",
       "\n",
       "    .dataframe tbody tr th {\n",
       "        vertical-align: top;\n",
       "    }\n",
       "\n",
       "    .dataframe thead th {\n",
       "        text-align: right;\n",
       "    }\n",
       "</style>\n",
       "<table border=\"1\" class=\"dataframe\">\n",
       "  <thead>\n",
       "    <tr style=\"text-align: right;\">\n",
       "      <th></th>\n",
       "      <th>Store</th>\n",
       "      <th>Date</th>\n",
       "      <th>Temperature</th>\n",
       "      <th>Fuel_Price</th>\n",
       "      <th>MarkDown1</th>\n",
       "      <th>MarkDown2</th>\n",
       "      <th>MarkDown3</th>\n",
       "      <th>MarkDown4</th>\n",
       "      <th>MarkDown5</th>\n",
       "      <th>CPI</th>\n",
       "      <th>Unemployment</th>\n",
       "      <th>IsHoliday</th>\n",
       "    </tr>\n",
       "  </thead>\n",
       "  <tbody>\n",
       "    <tr>\n",
       "      <th>0</th>\n",
       "      <td>1</td>\n",
       "      <td>2010-02-05</td>\n",
       "      <td>42.31000</td>\n",
       "      <td>2.57200</td>\n",
       "      <td>NaN</td>\n",
       "      <td>NaN</td>\n",
       "      <td>NaN</td>\n",
       "      <td>NaN</td>\n",
       "      <td>NaN</td>\n",
       "      <td>211.09636</td>\n",
       "      <td>8.10600</td>\n",
       "      <td>False</td>\n",
       "    </tr>\n",
       "    <tr>\n",
       "      <th>1</th>\n",
       "      <td>1</td>\n",
       "      <td>2010-02-12</td>\n",
       "      <td>38.51000</td>\n",
       "      <td>2.54800</td>\n",
       "      <td>NaN</td>\n",
       "      <td>NaN</td>\n",
       "      <td>NaN</td>\n",
       "      <td>NaN</td>\n",
       "      <td>NaN</td>\n",
       "      <td>211.24217</td>\n",
       "      <td>8.10600</td>\n",
       "      <td>True</td>\n",
       "    </tr>\n",
       "    <tr>\n",
       "      <th>2</th>\n",
       "      <td>1</td>\n",
       "      <td>2010-02-19</td>\n",
       "      <td>39.93000</td>\n",
       "      <td>2.51400</td>\n",
       "      <td>NaN</td>\n",
       "      <td>NaN</td>\n",
       "      <td>NaN</td>\n",
       "      <td>NaN</td>\n",
       "      <td>NaN</td>\n",
       "      <td>211.28914</td>\n",
       "      <td>8.10600</td>\n",
       "      <td>False</td>\n",
       "    </tr>\n",
       "    <tr>\n",
       "      <th>3</th>\n",
       "      <td>1</td>\n",
       "      <td>2010-02-26</td>\n",
       "      <td>46.63000</td>\n",
       "      <td>2.56100</td>\n",
       "      <td>NaN</td>\n",
       "      <td>NaN</td>\n",
       "      <td>NaN</td>\n",
       "      <td>NaN</td>\n",
       "      <td>NaN</td>\n",
       "      <td>211.31964</td>\n",
       "      <td>8.10600</td>\n",
       "      <td>False</td>\n",
       "    </tr>\n",
       "    <tr>\n",
       "      <th>4</th>\n",
       "      <td>1</td>\n",
       "      <td>2010-03-05</td>\n",
       "      <td>46.50000</td>\n",
       "      <td>2.62500</td>\n",
       "      <td>NaN</td>\n",
       "      <td>NaN</td>\n",
       "      <td>NaN</td>\n",
       "      <td>NaN</td>\n",
       "      <td>NaN</td>\n",
       "      <td>211.35014</td>\n",
       "      <td>8.10600</td>\n",
       "      <td>False</td>\n",
       "    </tr>\n",
       "    <tr>\n",
       "      <th>...</th>\n",
       "      <td>...</td>\n",
       "      <td>...</td>\n",
       "      <td>...</td>\n",
       "      <td>...</td>\n",
       "      <td>...</td>\n",
       "      <td>...</td>\n",
       "      <td>...</td>\n",
       "      <td>...</td>\n",
       "      <td>...</td>\n",
       "      <td>...</td>\n",
       "      <td>...</td>\n",
       "      <td>...</td>\n",
       "    </tr>\n",
       "    <tr>\n",
       "      <th>8185</th>\n",
       "      <td>45</td>\n",
       "      <td>2013-06-28</td>\n",
       "      <td>76.05000</td>\n",
       "      <td>3.63900</td>\n",
       "      <td>4842.29000</td>\n",
       "      <td>975.03000</td>\n",
       "      <td>3.00000</td>\n",
       "      <td>2449.97000</td>\n",
       "      <td>3169.69000</td>\n",
       "      <td>NaN</td>\n",
       "      <td>NaN</td>\n",
       "      <td>False</td>\n",
       "    </tr>\n",
       "    <tr>\n",
       "      <th>8186</th>\n",
       "      <td>45</td>\n",
       "      <td>2013-07-05</td>\n",
       "      <td>77.50000</td>\n",
       "      <td>3.61400</td>\n",
       "      <td>9090.48000</td>\n",
       "      <td>2268.58000</td>\n",
       "      <td>582.74000</td>\n",
       "      <td>5797.47000</td>\n",
       "      <td>1514.93000</td>\n",
       "      <td>NaN</td>\n",
       "      <td>NaN</td>\n",
       "      <td>False</td>\n",
       "    </tr>\n",
       "    <tr>\n",
       "      <th>8187</th>\n",
       "      <td>45</td>\n",
       "      <td>2013-07-12</td>\n",
       "      <td>79.37000</td>\n",
       "      <td>3.61400</td>\n",
       "      <td>3789.94000</td>\n",
       "      <td>1827.31000</td>\n",
       "      <td>85.72000</td>\n",
       "      <td>744.84000</td>\n",
       "      <td>2150.36000</td>\n",
       "      <td>NaN</td>\n",
       "      <td>NaN</td>\n",
       "      <td>False</td>\n",
       "    </tr>\n",
       "    <tr>\n",
       "      <th>8188</th>\n",
       "      <td>45</td>\n",
       "      <td>2013-07-19</td>\n",
       "      <td>82.84000</td>\n",
       "      <td>3.73700</td>\n",
       "      <td>2961.49000</td>\n",
       "      <td>1047.07000</td>\n",
       "      <td>204.19000</td>\n",
       "      <td>363.00000</td>\n",
       "      <td>1059.46000</td>\n",
       "      <td>NaN</td>\n",
       "      <td>NaN</td>\n",
       "      <td>False</td>\n",
       "    </tr>\n",
       "    <tr>\n",
       "      <th>8189</th>\n",
       "      <td>45</td>\n",
       "      <td>2013-07-26</td>\n",
       "      <td>76.06000</td>\n",
       "      <td>3.80400</td>\n",
       "      <td>212.02000</td>\n",
       "      <td>851.73000</td>\n",
       "      <td>2.06000</td>\n",
       "      <td>10.88000</td>\n",
       "      <td>1864.57000</td>\n",
       "      <td>NaN</td>\n",
       "      <td>NaN</td>\n",
       "      <td>False</td>\n",
       "    </tr>\n",
       "  </tbody>\n",
       "</table>\n",
       "<p>8190 rows × 12 columns</p>\n",
       "</div>"
      ],
      "text/plain": [
       "      Store        Date  Temperature  Fuel_Price  MarkDown1  MarkDown2  \\\n",
       "0         1  2010-02-05     42.31000     2.57200        NaN        NaN   \n",
       "1         1  2010-02-12     38.51000     2.54800        NaN        NaN   \n",
       "2         1  2010-02-19     39.93000     2.51400        NaN        NaN   \n",
       "3         1  2010-02-26     46.63000     2.56100        NaN        NaN   \n",
       "4         1  2010-03-05     46.50000     2.62500        NaN        NaN   \n",
       "...     ...         ...          ...         ...        ...        ...   \n",
       "8185     45  2013-06-28     76.05000     3.63900 4842.29000  975.03000   \n",
       "8186     45  2013-07-05     77.50000     3.61400 9090.48000 2268.58000   \n",
       "8187     45  2013-07-12     79.37000     3.61400 3789.94000 1827.31000   \n",
       "8188     45  2013-07-19     82.84000     3.73700 2961.49000 1047.07000   \n",
       "8189     45  2013-07-26     76.06000     3.80400  212.02000  851.73000   \n",
       "\n",
       "      MarkDown3  MarkDown4  MarkDown5       CPI  Unemployment  IsHoliday  \n",
       "0           NaN        NaN        NaN 211.09636       8.10600      False  \n",
       "1           NaN        NaN        NaN 211.24217       8.10600       True  \n",
       "2           NaN        NaN        NaN 211.28914       8.10600      False  \n",
       "3           NaN        NaN        NaN 211.31964       8.10600      False  \n",
       "4           NaN        NaN        NaN 211.35014       8.10600      False  \n",
       "...         ...        ...        ...       ...           ...        ...  \n",
       "8185    3.00000 2449.97000 3169.69000       NaN           NaN      False  \n",
       "8186  582.74000 5797.47000 1514.93000       NaN           NaN      False  \n",
       "8187   85.72000  744.84000 2150.36000       NaN           NaN      False  \n",
       "8188  204.19000  363.00000 1059.46000       NaN           NaN      False  \n",
       "8189    2.06000   10.88000 1864.57000       NaN           NaN      False  \n",
       "\n",
       "[8190 rows x 12 columns]"
      ]
     },
     "execution_count": 50,
     "metadata": {},
     "output_type": "execute_result"
    }
   ],
   "source": [
    "df_features"
   ]
  },
  {
   "cell_type": "code",
   "execution_count": 51,
   "id": "39f30aa4",
   "metadata": {
    "ExecuteTime": {
     "end_time": "2021-10-16T19:39:48.051019Z",
     "start_time": "2021-10-16T19:39:48.036019Z"
    }
   },
   "outputs": [
    {
     "name": "stdout",
     "output_type": "stream",
     "text": [
      "<class 'pandas.core.frame.DataFrame'>\n",
      "RangeIndex: 8190 entries, 0 to 8189\n",
      "Data columns (total 12 columns):\n",
      " #   Column        Non-Null Count  Dtype  \n",
      "---  ------        --------------  -----  \n",
      " 0   Store         8190 non-null   int64  \n",
      " 1   Date          8190 non-null   object \n",
      " 2   Temperature   8190 non-null   float64\n",
      " 3   Fuel_Price    8190 non-null   float64\n",
      " 4   MarkDown1     4032 non-null   float64\n",
      " 5   MarkDown2     2921 non-null   float64\n",
      " 6   MarkDown3     3613 non-null   float64\n",
      " 7   MarkDown4     3464 non-null   float64\n",
      " 8   MarkDown5     4050 non-null   float64\n",
      " 9   CPI           7605 non-null   float64\n",
      " 10  Unemployment  7605 non-null   float64\n",
      " 11  IsHoliday     8190 non-null   bool   \n",
      "dtypes: bool(1), float64(9), int64(1), object(1)\n",
      "memory usage: 712.0+ KB\n"
     ]
    }
   ],
   "source": [
    "df_features.info()"
   ]
  },
  {
   "cell_type": "code",
   "execution_count": 52,
   "id": "3b8cf64d",
   "metadata": {
    "ExecuteTime": {
     "end_time": "2021-10-16T19:39:48.130020Z",
     "start_time": "2021-10-16T19:39:48.052034Z"
    }
   },
   "outputs": [
    {
     "name": "stdout",
     "output_type": "stream",
     "text": [
      "<class 'pandas.core.frame.DataFrame'>\n",
      "RangeIndex: 8190 entries, 0 to 8189\n",
      "Data columns (total 12 columns):\n",
      " #   Column        Non-Null Count  Dtype  \n",
      "---  ------        --------------  -----  \n",
      " 0   Store         8190 non-null   int64  \n",
      " 1   Date          8190 non-null   object \n",
      " 2   Temperature   8190 non-null   float64\n",
      " 3   Fuel_Price    8190 non-null   float64\n",
      " 4   MarkDown1     8190 non-null   float64\n",
      " 5   MarkDown2     8190 non-null   float64\n",
      " 6   MarkDown3     8190 non-null   float64\n",
      " 7   MarkDown4     8190 non-null   float64\n",
      " 8   MarkDown5     8190 non-null   float64\n",
      " 9   CPI           8190 non-null   float64\n",
      " 10  Unemployment  8190 non-null   float64\n",
      " 11  IsHoliday     8190 non-null   bool   \n",
      "dtypes: bool(1), float64(9), int64(1), object(1)\n",
      "memory usage: 712.0+ KB\n"
     ]
    }
   ],
   "source": [
    "#Tratamento de nulos\n",
    "for i in df_features['Store'].unique():\n",
    "    df_features['CPI'].fillna(df_features.loc[df_features['Store']==i].CPI.mean(), inplace=True)\n",
    "    df_features['Unemployment'].fillna(df_features.loc[df_features['Store']==i].Unemployment.mean(), inplace=True) \n",
    "df_features.fillna(0, inplace = True)\n",
    "df_features.info()"
   ]
  },
  {
   "cell_type": "code",
   "execution_count": 53,
   "id": "2e2501e1",
   "metadata": {
    "ExecuteTime": {
     "end_time": "2021-10-16T19:39:48.146020Z",
     "start_time": "2021-10-16T19:39:48.132021Z"
    }
   },
   "outputs": [
    {
     "data": {
      "text/html": [
       "<div>\n",
       "<style scoped>\n",
       "    .dataframe tbody tr th:only-of-type {\n",
       "        vertical-align: middle;\n",
       "    }\n",
       "\n",
       "    .dataframe tbody tr th {\n",
       "        vertical-align: top;\n",
       "    }\n",
       "\n",
       "    .dataframe thead th {\n",
       "        text-align: right;\n",
       "    }\n",
       "</style>\n",
       "<table border=\"1\" class=\"dataframe\">\n",
       "  <thead>\n",
       "    <tr style=\"text-align: right;\">\n",
       "      <th></th>\n",
       "      <th>Store</th>\n",
       "      <th>Dept</th>\n",
       "      <th>Date</th>\n",
       "      <th>Weekly_Sales</th>\n",
       "      <th>IsHoliday</th>\n",
       "    </tr>\n",
       "  </thead>\n",
       "  <tbody>\n",
       "    <tr>\n",
       "      <th>0</th>\n",
       "      <td>1</td>\n",
       "      <td>1</td>\n",
       "      <td>2010-02-05</td>\n",
       "      <td>24924.50000</td>\n",
       "      <td>False</td>\n",
       "    </tr>\n",
       "    <tr>\n",
       "      <th>1</th>\n",
       "      <td>1</td>\n",
       "      <td>1</td>\n",
       "      <td>2010-02-12</td>\n",
       "      <td>46039.49000</td>\n",
       "      <td>True</td>\n",
       "    </tr>\n",
       "    <tr>\n",
       "      <th>2</th>\n",
       "      <td>1</td>\n",
       "      <td>1</td>\n",
       "      <td>2010-02-19</td>\n",
       "      <td>41595.55000</td>\n",
       "      <td>False</td>\n",
       "    </tr>\n",
       "    <tr>\n",
       "      <th>3</th>\n",
       "      <td>1</td>\n",
       "      <td>1</td>\n",
       "      <td>2010-02-26</td>\n",
       "      <td>19403.54000</td>\n",
       "      <td>False</td>\n",
       "    </tr>\n",
       "    <tr>\n",
       "      <th>4</th>\n",
       "      <td>1</td>\n",
       "      <td>1</td>\n",
       "      <td>2010-03-05</td>\n",
       "      <td>21827.90000</td>\n",
       "      <td>False</td>\n",
       "    </tr>\n",
       "    <tr>\n",
       "      <th>...</th>\n",
       "      <td>...</td>\n",
       "      <td>...</td>\n",
       "      <td>...</td>\n",
       "      <td>...</td>\n",
       "      <td>...</td>\n",
       "    </tr>\n",
       "    <tr>\n",
       "      <th>421565</th>\n",
       "      <td>45</td>\n",
       "      <td>98</td>\n",
       "      <td>2012-09-28</td>\n",
       "      <td>508.37000</td>\n",
       "      <td>False</td>\n",
       "    </tr>\n",
       "    <tr>\n",
       "      <th>421566</th>\n",
       "      <td>45</td>\n",
       "      <td>98</td>\n",
       "      <td>2012-10-05</td>\n",
       "      <td>628.10000</td>\n",
       "      <td>False</td>\n",
       "    </tr>\n",
       "    <tr>\n",
       "      <th>421567</th>\n",
       "      <td>45</td>\n",
       "      <td>98</td>\n",
       "      <td>2012-10-12</td>\n",
       "      <td>1061.02000</td>\n",
       "      <td>False</td>\n",
       "    </tr>\n",
       "    <tr>\n",
       "      <th>421568</th>\n",
       "      <td>45</td>\n",
       "      <td>98</td>\n",
       "      <td>2012-10-19</td>\n",
       "      <td>760.01000</td>\n",
       "      <td>False</td>\n",
       "    </tr>\n",
       "    <tr>\n",
       "      <th>421569</th>\n",
       "      <td>45</td>\n",
       "      <td>98</td>\n",
       "      <td>2012-10-26</td>\n",
       "      <td>1076.80000</td>\n",
       "      <td>False</td>\n",
       "    </tr>\n",
       "  </tbody>\n",
       "</table>\n",
       "<p>421570 rows × 5 columns</p>\n",
       "</div>"
      ],
      "text/plain": [
       "        Store  Dept        Date  Weekly_Sales  IsHoliday\n",
       "0           1     1  2010-02-05   24924.50000      False\n",
       "1           1     1  2010-02-12   46039.49000       True\n",
       "2           1     1  2010-02-19   41595.55000      False\n",
       "3           1     1  2010-02-26   19403.54000      False\n",
       "4           1     1  2010-03-05   21827.90000      False\n",
       "...       ...   ...         ...           ...        ...\n",
       "421565     45    98  2012-09-28     508.37000      False\n",
       "421566     45    98  2012-10-05     628.10000      False\n",
       "421567     45    98  2012-10-12    1061.02000      False\n",
       "421568     45    98  2012-10-19     760.01000      False\n",
       "421569     45    98  2012-10-26    1076.80000      False\n",
       "\n",
       "[421570 rows x 5 columns]"
      ]
     },
     "execution_count": 53,
     "metadata": {},
     "output_type": "execute_result"
    }
   ],
   "source": [
    "df_train"
   ]
  },
  {
   "cell_type": "code",
   "execution_count": 54,
   "id": "cbc8cbf4",
   "metadata": {
    "ExecuteTime": {
     "end_time": "2021-10-16T19:39:48.176018Z",
     "start_time": "2021-10-16T19:39:48.148020Z"
    }
   },
   "outputs": [
    {
     "name": "stdout",
     "output_type": "stream",
     "text": [
      "<class 'pandas.core.frame.DataFrame'>\n",
      "RangeIndex: 421570 entries, 0 to 421569\n",
      "Data columns (total 5 columns):\n",
      " #   Column        Non-Null Count   Dtype  \n",
      "---  ------        --------------   -----  \n",
      " 0   Store         421570 non-null  int64  \n",
      " 1   Dept          421570 non-null  int64  \n",
      " 2   Date          421570 non-null  object \n",
      " 3   Weekly_Sales  421570 non-null  float64\n",
      " 4   IsHoliday     421570 non-null  bool   \n",
      "dtypes: bool(1), float64(1), int64(2), object(1)\n",
      "memory usage: 13.3+ MB\n"
     ]
    }
   ],
   "source": [
    "df_train.info()"
   ]
  },
  {
   "cell_type": "code",
   "execution_count": 55,
   "id": "eff09293",
   "metadata": {
    "ExecuteTime": {
     "end_time": "2021-10-16T19:39:48.192019Z",
     "start_time": "2021-10-16T19:39:48.178020Z"
    }
   },
   "outputs": [
    {
     "data": {
      "text/html": [
       "<div>\n",
       "<style scoped>\n",
       "    .dataframe tbody tr th:only-of-type {\n",
       "        vertical-align: middle;\n",
       "    }\n",
       "\n",
       "    .dataframe tbody tr th {\n",
       "        vertical-align: top;\n",
       "    }\n",
       "\n",
       "    .dataframe thead th {\n",
       "        text-align: right;\n",
       "    }\n",
       "</style>\n",
       "<table border=\"1\" class=\"dataframe\">\n",
       "  <thead>\n",
       "    <tr style=\"text-align: right;\">\n",
       "      <th></th>\n",
       "      <th>Store</th>\n",
       "      <th>Type</th>\n",
       "      <th>Size</th>\n",
       "    </tr>\n",
       "  </thead>\n",
       "  <tbody>\n",
       "    <tr>\n",
       "      <th>0</th>\n",
       "      <td>1</td>\n",
       "      <td>A</td>\n",
       "      <td>151315</td>\n",
       "    </tr>\n",
       "    <tr>\n",
       "      <th>1</th>\n",
       "      <td>2</td>\n",
       "      <td>A</td>\n",
       "      <td>202307</td>\n",
       "    </tr>\n",
       "    <tr>\n",
       "      <th>2</th>\n",
       "      <td>3</td>\n",
       "      <td>B</td>\n",
       "      <td>37392</td>\n",
       "    </tr>\n",
       "    <tr>\n",
       "      <th>3</th>\n",
       "      <td>4</td>\n",
       "      <td>A</td>\n",
       "      <td>205863</td>\n",
       "    </tr>\n",
       "    <tr>\n",
       "      <th>4</th>\n",
       "      <td>5</td>\n",
       "      <td>B</td>\n",
       "      <td>34875</td>\n",
       "    </tr>\n",
       "  </tbody>\n",
       "</table>\n",
       "</div>"
      ],
      "text/plain": [
       "   Store Type    Size\n",
       "0      1    A  151315\n",
       "1      2    A  202307\n",
       "2      3    B   37392\n",
       "3      4    A  205863\n",
       "4      5    B   34875"
      ]
     },
     "execution_count": 55,
     "metadata": {},
     "output_type": "execute_result"
    }
   ],
   "source": [
    "df_stores.head()"
   ]
  },
  {
   "cell_type": "markdown",
   "id": "8723add1",
   "metadata": {},
   "source": [
    "# Uniao das Tabelas"
   ]
  },
  {
   "cell_type": "code",
   "execution_count": 56,
   "id": "a6c1b23e",
   "metadata": {
    "ExecuteTime": {
     "end_time": "2021-10-16T19:39:48.268019Z",
     "start_time": "2021-10-16T19:39:48.194019Z"
    }
   },
   "outputs": [],
   "source": [
    "df = df_train.merge(df_stores, how = 'left', on = 'Store')"
   ]
  },
  {
   "cell_type": "code",
   "execution_count": 57,
   "id": "cb77c224",
   "metadata": {
    "ExecuteTime": {
     "end_time": "2021-10-16T19:39:48.392019Z",
     "start_time": "2021-10-16T19:39:48.271020Z"
    }
   },
   "outputs": [],
   "source": [
    "df = df.merge(df_features, how = 'left', on =  ['Date', 'Store','IsHoliday'] )"
   ]
  },
  {
   "cell_type": "code",
   "execution_count": 58,
   "id": "376a08bd",
   "metadata": {
    "ExecuteTime": {
     "end_time": "2021-10-16T19:39:48.407019Z",
     "start_time": "2021-10-16T19:39:48.393019Z"
    }
   },
   "outputs": [
    {
     "data": {
      "text/html": [
       "<div>\n",
       "<style scoped>\n",
       "    .dataframe tbody tr th:only-of-type {\n",
       "        vertical-align: middle;\n",
       "    }\n",
       "\n",
       "    .dataframe tbody tr th {\n",
       "        vertical-align: top;\n",
       "    }\n",
       "\n",
       "    .dataframe thead th {\n",
       "        text-align: right;\n",
       "    }\n",
       "</style>\n",
       "<table border=\"1\" class=\"dataframe\">\n",
       "  <thead>\n",
       "    <tr style=\"text-align: right;\">\n",
       "      <th></th>\n",
       "      <th>Store</th>\n",
       "      <th>Dept</th>\n",
       "      <th>Date</th>\n",
       "      <th>Weekly_Sales</th>\n",
       "      <th>IsHoliday</th>\n",
       "      <th>Type</th>\n",
       "      <th>Size</th>\n",
       "      <th>Temperature</th>\n",
       "      <th>Fuel_Price</th>\n",
       "      <th>MarkDown1</th>\n",
       "      <th>MarkDown2</th>\n",
       "      <th>MarkDown3</th>\n",
       "      <th>MarkDown4</th>\n",
       "      <th>MarkDown5</th>\n",
       "      <th>CPI</th>\n",
       "      <th>Unemployment</th>\n",
       "    </tr>\n",
       "  </thead>\n",
       "  <tbody>\n",
       "    <tr>\n",
       "      <th>0</th>\n",
       "      <td>1</td>\n",
       "      <td>1</td>\n",
       "      <td>2010-02-05</td>\n",
       "      <td>24924.50000</td>\n",
       "      <td>False</td>\n",
       "      <td>A</td>\n",
       "      <td>151315</td>\n",
       "      <td>42.31000</td>\n",
       "      <td>2.57200</td>\n",
       "      <td>0.00000</td>\n",
       "      <td>0.00000</td>\n",
       "      <td>0.00000</td>\n",
       "      <td>0.00000</td>\n",
       "      <td>0.00000</td>\n",
       "      <td>211.09636</td>\n",
       "      <td>8.10600</td>\n",
       "    </tr>\n",
       "    <tr>\n",
       "      <th>1</th>\n",
       "      <td>1</td>\n",
       "      <td>1</td>\n",
       "      <td>2010-02-12</td>\n",
       "      <td>46039.49000</td>\n",
       "      <td>True</td>\n",
       "      <td>A</td>\n",
       "      <td>151315</td>\n",
       "      <td>38.51000</td>\n",
       "      <td>2.54800</td>\n",
       "      <td>0.00000</td>\n",
       "      <td>0.00000</td>\n",
       "      <td>0.00000</td>\n",
       "      <td>0.00000</td>\n",
       "      <td>0.00000</td>\n",
       "      <td>211.24217</td>\n",
       "      <td>8.10600</td>\n",
       "    </tr>\n",
       "    <tr>\n",
       "      <th>2</th>\n",
       "      <td>1</td>\n",
       "      <td>1</td>\n",
       "      <td>2010-02-19</td>\n",
       "      <td>41595.55000</td>\n",
       "      <td>False</td>\n",
       "      <td>A</td>\n",
       "      <td>151315</td>\n",
       "      <td>39.93000</td>\n",
       "      <td>2.51400</td>\n",
       "      <td>0.00000</td>\n",
       "      <td>0.00000</td>\n",
       "      <td>0.00000</td>\n",
       "      <td>0.00000</td>\n",
       "      <td>0.00000</td>\n",
       "      <td>211.28914</td>\n",
       "      <td>8.10600</td>\n",
       "    </tr>\n",
       "    <tr>\n",
       "      <th>3</th>\n",
       "      <td>1</td>\n",
       "      <td>1</td>\n",
       "      <td>2010-02-26</td>\n",
       "      <td>19403.54000</td>\n",
       "      <td>False</td>\n",
       "      <td>A</td>\n",
       "      <td>151315</td>\n",
       "      <td>46.63000</td>\n",
       "      <td>2.56100</td>\n",
       "      <td>0.00000</td>\n",
       "      <td>0.00000</td>\n",
       "      <td>0.00000</td>\n",
       "      <td>0.00000</td>\n",
       "      <td>0.00000</td>\n",
       "      <td>211.31964</td>\n",
       "      <td>8.10600</td>\n",
       "    </tr>\n",
       "    <tr>\n",
       "      <th>4</th>\n",
       "      <td>1</td>\n",
       "      <td>1</td>\n",
       "      <td>2010-03-05</td>\n",
       "      <td>21827.90000</td>\n",
       "      <td>False</td>\n",
       "      <td>A</td>\n",
       "      <td>151315</td>\n",
       "      <td>46.50000</td>\n",
       "      <td>2.62500</td>\n",
       "      <td>0.00000</td>\n",
       "      <td>0.00000</td>\n",
       "      <td>0.00000</td>\n",
       "      <td>0.00000</td>\n",
       "      <td>0.00000</td>\n",
       "      <td>211.35014</td>\n",
       "      <td>8.10600</td>\n",
       "    </tr>\n",
       "  </tbody>\n",
       "</table>\n",
       "</div>"
      ],
      "text/plain": [
       "   Store  Dept        Date  Weekly_Sales  IsHoliday Type    Size  Temperature  \\\n",
       "0      1     1  2010-02-05   24924.50000      False    A  151315     42.31000   \n",
       "1      1     1  2010-02-12   46039.49000       True    A  151315     38.51000   \n",
       "2      1     1  2010-02-19   41595.55000      False    A  151315     39.93000   \n",
       "3      1     1  2010-02-26   19403.54000      False    A  151315     46.63000   \n",
       "4      1     1  2010-03-05   21827.90000      False    A  151315     46.50000   \n",
       "\n",
       "   Fuel_Price  MarkDown1  MarkDown2  MarkDown3  MarkDown4  MarkDown5  \\\n",
       "0     2.57200    0.00000    0.00000    0.00000    0.00000    0.00000   \n",
       "1     2.54800    0.00000    0.00000    0.00000    0.00000    0.00000   \n",
       "2     2.51400    0.00000    0.00000    0.00000    0.00000    0.00000   \n",
       "3     2.56100    0.00000    0.00000    0.00000    0.00000    0.00000   \n",
       "4     2.62500    0.00000    0.00000    0.00000    0.00000    0.00000   \n",
       "\n",
       "        CPI  Unemployment  \n",
       "0 211.09636       8.10600  \n",
       "1 211.24217       8.10600  \n",
       "2 211.28914       8.10600  \n",
       "3 211.31964       8.10600  \n",
       "4 211.35014       8.10600  "
      ]
     },
     "execution_count": 58,
     "metadata": {},
     "output_type": "execute_result"
    }
   ],
   "source": [
    "df.head()"
   ]
  },
  {
   "cell_type": "code",
   "execution_count": 59,
   "id": "f3803584",
   "metadata": {
    "ExecuteTime": {
     "end_time": "2021-10-16T19:39:48.423018Z",
     "start_time": "2021-10-16T19:39:48.408020Z"
    }
   },
   "outputs": [
    {
     "data": {
      "text/plain": [
       "(421570, 16)"
      ]
     },
     "execution_count": 59,
     "metadata": {},
     "output_type": "execute_result"
    }
   ],
   "source": [
    "df.shape"
   ]
  },
  {
   "cell_type": "code",
   "execution_count": 60,
   "id": "3b6a1f6c",
   "metadata": {
    "ExecuteTime": {
     "end_time": "2021-10-16T19:39:48.470019Z",
     "start_time": "2021-10-16T19:39:48.424019Z"
    }
   },
   "outputs": [
    {
     "data": {
      "text/plain": [
       "Store           0\n",
       "Dept            0\n",
       "Date            0\n",
       "Weekly_Sales    0\n",
       "IsHoliday       0\n",
       "Type            0\n",
       "Size            0\n",
       "Temperature     0\n",
       "Fuel_Price      0\n",
       "MarkDown1       0\n",
       "MarkDown2       0\n",
       "MarkDown3       0\n",
       "MarkDown4       0\n",
       "MarkDown5       0\n",
       "CPI             0\n",
       "Unemployment    0\n",
       "dtype: int64"
      ]
     },
     "execution_count": 60,
     "metadata": {},
     "output_type": "execute_result"
    }
   ],
   "source": [
    "df.isnull().sum()"
   ]
  },
  {
   "cell_type": "markdown",
   "id": "e2a291e5",
   "metadata": {},
   "source": [
    "# EDA"
   ]
  },
  {
   "cell_type": "code",
   "execution_count": 61,
   "id": "d61b2358",
   "metadata": {
    "ExecuteTime": {
     "end_time": "2021-10-16T19:39:48.656018Z",
     "start_time": "2021-10-16T19:39:48.471021Z"
    }
   },
   "outputs": [
    {
     "data": {
      "text/html": [
       "<div>\n",
       "<style scoped>\n",
       "    .dataframe tbody tr th:only-of-type {\n",
       "        vertical-align: middle;\n",
       "    }\n",
       "\n",
       "    .dataframe tbody tr th {\n",
       "        vertical-align: top;\n",
       "    }\n",
       "\n",
       "    .dataframe thead th {\n",
       "        text-align: right;\n",
       "    }\n",
       "</style>\n",
       "<table border=\"1\" class=\"dataframe\">\n",
       "  <thead>\n",
       "    <tr style=\"text-align: right;\">\n",
       "      <th></th>\n",
       "      <th>count</th>\n",
       "      <th>mean</th>\n",
       "      <th>std</th>\n",
       "      <th>min</th>\n",
       "      <th>25%</th>\n",
       "      <th>50%</th>\n",
       "      <th>75%</th>\n",
       "      <th>max</th>\n",
       "    </tr>\n",
       "  </thead>\n",
       "  <tbody>\n",
       "    <tr>\n",
       "      <th>Store</th>\n",
       "      <td>421570.00000</td>\n",
       "      <td>22.20055</td>\n",
       "      <td>12.78530</td>\n",
       "      <td>1.00000</td>\n",
       "      <td>11.00000</td>\n",
       "      <td>22.00000</td>\n",
       "      <td>33.00000</td>\n",
       "      <td>45.00000</td>\n",
       "    </tr>\n",
       "    <tr>\n",
       "      <th>Dept</th>\n",
       "      <td>421570.00000</td>\n",
       "      <td>44.26032</td>\n",
       "      <td>30.49205</td>\n",
       "      <td>1.00000</td>\n",
       "      <td>18.00000</td>\n",
       "      <td>37.00000</td>\n",
       "      <td>74.00000</td>\n",
       "      <td>99.00000</td>\n",
       "    </tr>\n",
       "    <tr>\n",
       "      <th>Weekly_Sales</th>\n",
       "      <td>421570.00000</td>\n",
       "      <td>15981.25812</td>\n",
       "      <td>22711.18352</td>\n",
       "      <td>-4988.94000</td>\n",
       "      <td>2079.65000</td>\n",
       "      <td>7612.03000</td>\n",
       "      <td>20205.85250</td>\n",
       "      <td>693099.36000</td>\n",
       "    </tr>\n",
       "    <tr>\n",
       "      <th>Size</th>\n",
       "      <td>421570.00000</td>\n",
       "      <td>136727.91574</td>\n",
       "      <td>60980.58333</td>\n",
       "      <td>34875.00000</td>\n",
       "      <td>93638.00000</td>\n",
       "      <td>140167.00000</td>\n",
       "      <td>202505.00000</td>\n",
       "      <td>219622.00000</td>\n",
       "    </tr>\n",
       "    <tr>\n",
       "      <th>Temperature</th>\n",
       "      <td>421570.00000</td>\n",
       "      <td>60.09006</td>\n",
       "      <td>18.44793</td>\n",
       "      <td>-2.06000</td>\n",
       "      <td>46.68000</td>\n",
       "      <td>62.09000</td>\n",
       "      <td>74.28000</td>\n",
       "      <td>100.14000</td>\n",
       "    </tr>\n",
       "    <tr>\n",
       "      <th>Fuel_Price</th>\n",
       "      <td>421570.00000</td>\n",
       "      <td>3.36103</td>\n",
       "      <td>0.45851</td>\n",
       "      <td>2.47200</td>\n",
       "      <td>2.93300</td>\n",
       "      <td>3.45200</td>\n",
       "      <td>3.73800</td>\n",
       "      <td>4.46800</td>\n",
       "    </tr>\n",
       "    <tr>\n",
       "      <th>MarkDown1</th>\n",
       "      <td>421570.00000</td>\n",
       "      <td>2590.07482</td>\n",
       "      <td>6052.38593</td>\n",
       "      <td>0.00000</td>\n",
       "      <td>0.00000</td>\n",
       "      <td>0.00000</td>\n",
       "      <td>2809.05000</td>\n",
       "      <td>88646.76000</td>\n",
       "    </tr>\n",
       "    <tr>\n",
       "      <th>MarkDown2</th>\n",
       "      <td>421570.00000</td>\n",
       "      <td>879.97430</td>\n",
       "      <td>5084.53880</td>\n",
       "      <td>-265.76000</td>\n",
       "      <td>0.00000</td>\n",
       "      <td>0.00000</td>\n",
       "      <td>2.20000</td>\n",
       "      <td>104519.54000</td>\n",
       "    </tr>\n",
       "    <tr>\n",
       "      <th>MarkDown3</th>\n",
       "      <td>421570.00000</td>\n",
       "      <td>468.08767</td>\n",
       "      <td>5528.87345</td>\n",
       "      <td>-29.10000</td>\n",
       "      <td>0.00000</td>\n",
       "      <td>0.00000</td>\n",
       "      <td>4.54000</td>\n",
       "      <td>141630.61000</td>\n",
       "    </tr>\n",
       "    <tr>\n",
       "      <th>MarkDown4</th>\n",
       "      <td>421570.00000</td>\n",
       "      <td>1083.13227</td>\n",
       "      <td>3894.52995</td>\n",
       "      <td>0.00000</td>\n",
       "      <td>0.00000</td>\n",
       "      <td>0.00000</td>\n",
       "      <td>425.29000</td>\n",
       "      <td>67474.85000</td>\n",
       "    </tr>\n",
       "    <tr>\n",
       "      <th>MarkDown5</th>\n",
       "      <td>421570.00000</td>\n",
       "      <td>1662.77238</td>\n",
       "      <td>4207.62932</td>\n",
       "      <td>0.00000</td>\n",
       "      <td>0.00000</td>\n",
       "      <td>0.00000</td>\n",
       "      <td>2168.04000</td>\n",
       "      <td>108519.28000</td>\n",
       "    </tr>\n",
       "    <tr>\n",
       "      <th>CPI</th>\n",
       "      <td>421570.00000</td>\n",
       "      <td>171.20195</td>\n",
       "      <td>39.15928</td>\n",
       "      <td>126.06400</td>\n",
       "      <td>132.02267</td>\n",
       "      <td>182.31878</td>\n",
       "      <td>212.41699</td>\n",
       "      <td>227.23281</td>\n",
       "    </tr>\n",
       "    <tr>\n",
       "      <th>Unemployment</th>\n",
       "      <td>421570.00000</td>\n",
       "      <td>7.96029</td>\n",
       "      <td>1.86330</td>\n",
       "      <td>3.87900</td>\n",
       "      <td>6.89100</td>\n",
       "      <td>7.86600</td>\n",
       "      <td>8.57200</td>\n",
       "      <td>14.31300</td>\n",
       "    </tr>\n",
       "  </tbody>\n",
       "</table>\n",
       "</div>"
      ],
      "text/plain": [
       "                    count         mean         std         min         25%  \\\n",
       "Store        421570.00000     22.20055    12.78530     1.00000    11.00000   \n",
       "Dept         421570.00000     44.26032    30.49205     1.00000    18.00000   \n",
       "Weekly_Sales 421570.00000  15981.25812 22711.18352 -4988.94000  2079.65000   \n",
       "Size         421570.00000 136727.91574 60980.58333 34875.00000 93638.00000   \n",
       "Temperature  421570.00000     60.09006    18.44793    -2.06000    46.68000   \n",
       "Fuel_Price   421570.00000      3.36103     0.45851     2.47200     2.93300   \n",
       "MarkDown1    421570.00000   2590.07482  6052.38593     0.00000     0.00000   \n",
       "MarkDown2    421570.00000    879.97430  5084.53880  -265.76000     0.00000   \n",
       "MarkDown3    421570.00000    468.08767  5528.87345   -29.10000     0.00000   \n",
       "MarkDown4    421570.00000   1083.13227  3894.52995     0.00000     0.00000   \n",
       "MarkDown5    421570.00000   1662.77238  4207.62932     0.00000     0.00000   \n",
       "CPI          421570.00000    171.20195    39.15928   126.06400   132.02267   \n",
       "Unemployment 421570.00000      7.96029     1.86330     3.87900     6.89100   \n",
       "\n",
       "                      50%          75%          max  \n",
       "Store            22.00000     33.00000     45.00000  \n",
       "Dept             37.00000     74.00000     99.00000  \n",
       "Weekly_Sales   7612.03000  20205.85250 693099.36000  \n",
       "Size         140167.00000 202505.00000 219622.00000  \n",
       "Temperature      62.09000     74.28000    100.14000  \n",
       "Fuel_Price        3.45200      3.73800      4.46800  \n",
       "MarkDown1         0.00000   2809.05000  88646.76000  \n",
       "MarkDown2         0.00000      2.20000 104519.54000  \n",
       "MarkDown3         0.00000      4.54000 141630.61000  \n",
       "MarkDown4         0.00000    425.29000  67474.85000  \n",
       "MarkDown5         0.00000   2168.04000 108519.28000  \n",
       "CPI             182.31878    212.41699    227.23281  \n",
       "Unemployment      7.86600      8.57200     14.31300  "
      ]
     },
     "execution_count": 61,
     "metadata": {},
     "output_type": "execute_result"
    }
   ],
   "source": [
    "df.describe().transpose()"
   ]
  },
  {
   "cell_type": "code",
   "execution_count": 62,
   "id": "d080d810",
   "metadata": {
    "ExecuteTime": {
     "end_time": "2021-10-16T19:39:48.671018Z",
     "start_time": "2021-10-16T19:39:48.657019Z"
    }
   },
   "outputs": [],
   "source": [
    "pd.set_option('display.float_format', lambda x: '%.5f' %x)"
   ]
  },
  {
   "cell_type": "code",
   "execution_count": 63,
   "id": "e52db2b2",
   "metadata": {
    "ExecuteTime": {
     "end_time": "2021-10-16T19:39:48.687048Z",
     "start_time": "2021-10-16T19:39:48.673020Z"
    }
   },
   "outputs": [
    {
     "data": {
      "text/html": [
       "<div>\n",
       "<style scoped>\n",
       "    .dataframe tbody tr th:only-of-type {\n",
       "        vertical-align: middle;\n",
       "    }\n",
       "\n",
       "    .dataframe tbody tr th {\n",
       "        vertical-align: top;\n",
       "    }\n",
       "\n",
       "    .dataframe thead th {\n",
       "        text-align: right;\n",
       "    }\n",
       "</style>\n",
       "<table border=\"1\" class=\"dataframe\">\n",
       "  <thead>\n",
       "    <tr style=\"text-align: right;\">\n",
       "      <th></th>\n",
       "      <th>Store</th>\n",
       "      <th>Dept</th>\n",
       "      <th>Date</th>\n",
       "      <th>Weekly_Sales</th>\n",
       "      <th>IsHoliday</th>\n",
       "      <th>Type</th>\n",
       "      <th>Size</th>\n",
       "      <th>Temperature</th>\n",
       "      <th>Fuel_Price</th>\n",
       "      <th>MarkDown1</th>\n",
       "      <th>MarkDown2</th>\n",
       "      <th>MarkDown3</th>\n",
       "      <th>MarkDown4</th>\n",
       "      <th>MarkDown5</th>\n",
       "      <th>CPI</th>\n",
       "      <th>Unemployment</th>\n",
       "    </tr>\n",
       "  </thead>\n",
       "  <tbody>\n",
       "    <tr>\n",
       "      <th>0</th>\n",
       "      <td>1</td>\n",
       "      <td>1</td>\n",
       "      <td>2010-02-05</td>\n",
       "      <td>24924.50000</td>\n",
       "      <td>False</td>\n",
       "      <td>A</td>\n",
       "      <td>151315</td>\n",
       "      <td>42.31000</td>\n",
       "      <td>2.57200</td>\n",
       "      <td>0.00000</td>\n",
       "      <td>0.00000</td>\n",
       "      <td>0.00000</td>\n",
       "      <td>0.00000</td>\n",
       "      <td>0.00000</td>\n",
       "      <td>211.09636</td>\n",
       "      <td>8.10600</td>\n",
       "    </tr>\n",
       "    <tr>\n",
       "      <th>1</th>\n",
       "      <td>1</td>\n",
       "      <td>1</td>\n",
       "      <td>2010-02-12</td>\n",
       "      <td>46039.49000</td>\n",
       "      <td>True</td>\n",
       "      <td>A</td>\n",
       "      <td>151315</td>\n",
       "      <td>38.51000</td>\n",
       "      <td>2.54800</td>\n",
       "      <td>0.00000</td>\n",
       "      <td>0.00000</td>\n",
       "      <td>0.00000</td>\n",
       "      <td>0.00000</td>\n",
       "      <td>0.00000</td>\n",
       "      <td>211.24217</td>\n",
       "      <td>8.10600</td>\n",
       "    </tr>\n",
       "    <tr>\n",
       "      <th>2</th>\n",
       "      <td>1</td>\n",
       "      <td>1</td>\n",
       "      <td>2010-02-19</td>\n",
       "      <td>41595.55000</td>\n",
       "      <td>False</td>\n",
       "      <td>A</td>\n",
       "      <td>151315</td>\n",
       "      <td>39.93000</td>\n",
       "      <td>2.51400</td>\n",
       "      <td>0.00000</td>\n",
       "      <td>0.00000</td>\n",
       "      <td>0.00000</td>\n",
       "      <td>0.00000</td>\n",
       "      <td>0.00000</td>\n",
       "      <td>211.28914</td>\n",
       "      <td>8.10600</td>\n",
       "    </tr>\n",
       "    <tr>\n",
       "      <th>3</th>\n",
       "      <td>1</td>\n",
       "      <td>1</td>\n",
       "      <td>2010-02-26</td>\n",
       "      <td>19403.54000</td>\n",
       "      <td>False</td>\n",
       "      <td>A</td>\n",
       "      <td>151315</td>\n",
       "      <td>46.63000</td>\n",
       "      <td>2.56100</td>\n",
       "      <td>0.00000</td>\n",
       "      <td>0.00000</td>\n",
       "      <td>0.00000</td>\n",
       "      <td>0.00000</td>\n",
       "      <td>0.00000</td>\n",
       "      <td>211.31964</td>\n",
       "      <td>8.10600</td>\n",
       "    </tr>\n",
       "    <tr>\n",
       "      <th>4</th>\n",
       "      <td>1</td>\n",
       "      <td>1</td>\n",
       "      <td>2010-03-05</td>\n",
       "      <td>21827.90000</td>\n",
       "      <td>False</td>\n",
       "      <td>A</td>\n",
       "      <td>151315</td>\n",
       "      <td>46.50000</td>\n",
       "      <td>2.62500</td>\n",
       "      <td>0.00000</td>\n",
       "      <td>0.00000</td>\n",
       "      <td>0.00000</td>\n",
       "      <td>0.00000</td>\n",
       "      <td>0.00000</td>\n",
       "      <td>211.35014</td>\n",
       "      <td>8.10600</td>\n",
       "    </tr>\n",
       "  </tbody>\n",
       "</table>\n",
       "</div>"
      ],
      "text/plain": [
       "   Store  Dept        Date  Weekly_Sales  IsHoliday Type    Size  Temperature  \\\n",
       "0      1     1  2010-02-05   24924.50000      False    A  151315     42.31000   \n",
       "1      1     1  2010-02-12   46039.49000       True    A  151315     38.51000   \n",
       "2      1     1  2010-02-19   41595.55000      False    A  151315     39.93000   \n",
       "3      1     1  2010-02-26   19403.54000      False    A  151315     46.63000   \n",
       "4      1     1  2010-03-05   21827.90000      False    A  151315     46.50000   \n",
       "\n",
       "   Fuel_Price  MarkDown1  MarkDown2  MarkDown3  MarkDown4  MarkDown5  \\\n",
       "0     2.57200    0.00000    0.00000    0.00000    0.00000    0.00000   \n",
       "1     2.54800    0.00000    0.00000    0.00000    0.00000    0.00000   \n",
       "2     2.51400    0.00000    0.00000    0.00000    0.00000    0.00000   \n",
       "3     2.56100    0.00000    0.00000    0.00000    0.00000    0.00000   \n",
       "4     2.62500    0.00000    0.00000    0.00000    0.00000    0.00000   \n",
       "\n",
       "        CPI  Unemployment  \n",
       "0 211.09636       8.10600  \n",
       "1 211.24217       8.10600  \n",
       "2 211.28914       8.10600  \n",
       "3 211.31964       8.10600  \n",
       "4 211.35014       8.10600  "
      ]
     },
     "execution_count": 63,
     "metadata": {},
     "output_type": "execute_result"
    }
   ],
   "source": [
    "df.head()"
   ]
  },
  {
   "cell_type": "code",
   "execution_count": 64,
   "id": "95715e75",
   "metadata": {
    "ExecuteTime": {
     "end_time": "2021-10-16T19:39:48.703018Z",
     "start_time": "2021-10-16T19:39:48.689020Z"
    }
   },
   "outputs": [
    {
     "data": {
      "text/plain": [
       "Store             int64\n",
       "Dept              int64\n",
       "Date             object\n",
       "Weekly_Sales    float64\n",
       "IsHoliday          bool\n",
       "Type             object\n",
       "Size              int64\n",
       "Temperature     float64\n",
       "Fuel_Price      float64\n",
       "MarkDown1       float64\n",
       "MarkDown2       float64\n",
       "MarkDown3       float64\n",
       "MarkDown4       float64\n",
       "MarkDown5       float64\n",
       "CPI             float64\n",
       "Unemployment    float64\n",
       "dtype: object"
      ]
     },
     "execution_count": 64,
     "metadata": {},
     "output_type": "execute_result"
    }
   ],
   "source": [
    "df.dtypes"
   ]
  },
  {
   "cell_type": "code",
   "execution_count": 65,
   "id": "de2b0ada",
   "metadata": {
    "ExecuteTime": {
     "end_time": "2021-10-16T19:39:48.767046Z",
     "start_time": "2021-10-16T19:39:48.704019Z"
    }
   },
   "outputs": [],
   "source": [
    "df['Date'] = df['Date'].astype('datetime64[ns]') "
   ]
  },
  {
   "cell_type": "code",
   "execution_count": 66,
   "id": "6fda8ee9",
   "metadata": {
    "ExecuteTime": {
     "end_time": "2021-10-16T19:39:48.890044Z",
     "start_time": "2021-10-16T19:39:48.768054Z"
    }
   },
   "outputs": [
    {
     "name": "stderr",
     "output_type": "stream",
     "text": [
      "<ipython-input-66-b829a4a00862>:2: FutureWarning: Series.dt.weekofyear and Series.dt.week have been deprecated.  Please use Series.dt.isocalendar().week instead.\n",
      "  df['Semana'] = df['Date'].dt.week\n"
     ]
    }
   ],
   "source": [
    "df['Date'].dt.year.unique()\n",
    "df['Semana'] = df['Date'].dt.week\n",
    "df['Mes'] = df['Date'].dt.month\n",
    "df['Ano'] = df['Date'].dt.year"
   ]
  },
  {
   "cell_type": "code",
   "execution_count": 67,
   "id": "2cd762ab",
   "metadata": {
    "ExecuteTime": {
     "end_time": "2021-10-16T19:39:48.921049Z",
     "start_time": "2021-10-16T19:39:48.891019Z"
    }
   },
   "outputs": [
    {
     "data": {
      "text/html": [
       "<div>\n",
       "<style scoped>\n",
       "    .dataframe tbody tr th:only-of-type {\n",
       "        vertical-align: middle;\n",
       "    }\n",
       "\n",
       "    .dataframe tbody tr th {\n",
       "        vertical-align: top;\n",
       "    }\n",
       "\n",
       "    .dataframe thead th {\n",
       "        text-align: right;\n",
       "    }\n",
       "</style>\n",
       "<table border=\"1\" class=\"dataframe\">\n",
       "  <thead>\n",
       "    <tr style=\"text-align: right;\">\n",
       "      <th></th>\n",
       "      <th>Weekly_Sales</th>\n",
       "    </tr>\n",
       "    <tr>\n",
       "      <th>Store</th>\n",
       "      <th></th>\n",
       "    </tr>\n",
       "  </thead>\n",
       "  <tbody>\n",
       "    <tr>\n",
       "      <th>1</th>\n",
       "      <td>222402808.85000</td>\n",
       "    </tr>\n",
       "    <tr>\n",
       "      <th>2</th>\n",
       "      <td>275382440.98000</td>\n",
       "    </tr>\n",
       "    <tr>\n",
       "      <th>3</th>\n",
       "      <td>57586735.07000</td>\n",
       "    </tr>\n",
       "    <tr>\n",
       "      <th>4</th>\n",
       "      <td>299543953.38000</td>\n",
       "    </tr>\n",
       "    <tr>\n",
       "      <th>5</th>\n",
       "      <td>45475688.90000</td>\n",
       "    </tr>\n",
       "  </tbody>\n",
       "</table>\n",
       "</div>"
      ],
      "text/plain": [
       "         Weekly_Sales\n",
       "Store                \n",
       "1     222402808.85000\n",
       "2     275382440.98000\n",
       "3      57586735.07000\n",
       "4     299543953.38000\n",
       "5      45475688.90000"
      ]
     },
     "execution_count": 67,
     "metadata": {},
     "output_type": "execute_result"
    }
   ],
   "source": [
    "df[['Store','Weekly_Sales']].groupby(by='Store').sum().head()"
   ]
  },
  {
   "cell_type": "code",
   "execution_count": 68,
   "id": "d1e42dce",
   "metadata": {
    "ExecuteTime": {
     "end_time": "2021-10-16T19:39:48.937043Z",
     "start_time": "2021-10-16T19:39:48.922058Z"
    }
   },
   "outputs": [],
   "source": [
    "import matplotlib.pyplot as plt\n",
    "import seaborn as sns"
   ]
  },
  {
   "cell_type": "code",
   "execution_count": 69,
   "id": "b157b04b",
   "metadata": {
    "ExecuteTime": {
     "end_time": "2021-10-16T19:39:52.877019Z",
     "start_time": "2021-10-16T19:39:48.938053Z"
    }
   },
   "outputs": [
    {
     "data": {
      "text/plain": [
       "<AxesSubplot:xlabel='Store', ylabel='Weekly_Sales'>"
      ]
     },
     "execution_count": 69,
     "metadata": {},
     "output_type": "execute_result"
    },
    {
     "data": {
      "image/png": "[encoded data removed]",
      "text/plain": [
       "<Figure size 1800x432 with 1 Axes>"
      ]
     },
     "metadata": {
      "needs_background": "light"
     },
     "output_type": "display_data"
    }
   ],
   "source": [
    "plt.figure(figsize= (25,6))\n",
    "sns.barplot(x=\"Store\", y=\"Weekly_Sales\", data=df)"
   ]
  },
  {
   "cell_type": "code",
   "execution_count": 70,
   "id": "bc67968d",
   "metadata": {
    "ExecuteTime": {
     "end_time": "2021-10-16T19:39:57.699554Z",
     "start_time": "2021-10-16T19:39:52.880020Z"
    }
   },
   "outputs": [
    {
     "data": {
      "text/plain": [
       "<AxesSubplot:xlabel='Store', ylabel='Weekly_Sales'>"
      ]
     },
     "execution_count": 70,
     "metadata": {},
     "output_type": "execute_result"
    },
    {
     "data": {
      "image/png": "[encoded data removed]",
      "text/plain": [
       "<Figure size 1800x432 with 1 Axes>"
      ]
     },
     "metadata": {
      "needs_background": "light"
     },
     "output_type": "display_data"
    }
   ],
   "source": [
    "plt.figure(figsize= (25,6))\n",
    "sns.barplot(x=\"Store\", y=\"Weekly_Sales\", data=df, hue = 'IsHoliday')"
   ]
  },
  {
   "cell_type": "code",
   "execution_count": 71,
   "id": "c47263e6",
   "metadata": {
    "ExecuteTime": {
     "end_time": "2021-10-16T19:39:57.854578Z",
     "start_time": "2021-10-16T19:39:57.701556Z"
    }
   },
   "outputs": [
    {
     "data": {
      "text/html": [
       "<div>\n",
       "<style scoped>\n",
       "    .dataframe tbody tr th:only-of-type {\n",
       "        vertical-align: middle;\n",
       "    }\n",
       "\n",
       "    .dataframe tbody tr th {\n",
       "        vertical-align: top;\n",
       "    }\n",
       "\n",
       "    .dataframe thead th {\n",
       "        text-align: right;\n",
       "    }\n",
       "</style>\n",
       "<table border=\"1\" class=\"dataframe\">\n",
       "  <thead>\n",
       "    <tr style=\"text-align: right;\">\n",
       "      <th></th>\n",
       "      <th>Store</th>\n",
       "      <th>Dept</th>\n",
       "      <th>Weekly_Sales</th>\n",
       "      <th>IsHoliday</th>\n",
       "      <th>Size</th>\n",
       "      <th>Temperature</th>\n",
       "      <th>Fuel_Price</th>\n",
       "      <th>MarkDown1</th>\n",
       "      <th>MarkDown2</th>\n",
       "      <th>MarkDown3</th>\n",
       "      <th>MarkDown4</th>\n",
       "      <th>MarkDown5</th>\n",
       "      <th>CPI</th>\n",
       "      <th>Unemployment</th>\n",
       "      <th>Semana</th>\n",
       "      <th>Mes</th>\n",
       "      <th>Ano</th>\n",
       "    </tr>\n",
       "    <tr>\n",
       "      <th>Type</th>\n",
       "      <th></th>\n",
       "      <th></th>\n",
       "      <th></th>\n",
       "      <th></th>\n",
       "      <th></th>\n",
       "      <th></th>\n",
       "      <th></th>\n",
       "      <th></th>\n",
       "      <th></th>\n",
       "      <th></th>\n",
       "      <th></th>\n",
       "      <th></th>\n",
       "      <th></th>\n",
       "      <th></th>\n",
       "      <th></th>\n",
       "      <th></th>\n",
       "      <th></th>\n",
       "    </tr>\n",
       "  </thead>\n",
       "  <tbody>\n",
       "    <tr>\n",
       "      <th>A</th>\n",
       "      <td>24</td>\n",
       "      <td>38</td>\n",
       "      <td>10105.17000</td>\n",
       "      <td>False</td>\n",
       "      <td>202505</td>\n",
       "      <td>62.78000</td>\n",
       "      <td>3.41700</td>\n",
       "      <td>0.00000</td>\n",
       "      <td>0.00000</td>\n",
       "      <td>0.00000</td>\n",
       "      <td>0.00000</td>\n",
       "      <td>0.00000</td>\n",
       "      <td>189.61901</td>\n",
       "      <td>7.81800</td>\n",
       "      <td>26</td>\n",
       "      <td>6</td>\n",
       "      <td>2011</td>\n",
       "    </tr>\n",
       "    <tr>\n",
       "      <th>B</th>\n",
       "      <td>17</td>\n",
       "      <td>36</td>\n",
       "      <td>6187.87000</td>\n",
       "      <td>False</td>\n",
       "      <td>114533</td>\n",
       "      <td>58.97000</td>\n",
       "      <td>3.49400</td>\n",
       "      <td>0.00000</td>\n",
       "      <td>0.00000</td>\n",
       "      <td>0.00000</td>\n",
       "      <td>0.00000</td>\n",
       "      <td>0.00000</td>\n",
       "      <td>140.44479</td>\n",
       "      <td>7.87200</td>\n",
       "      <td>26</td>\n",
       "      <td>6</td>\n",
       "      <td>2011</td>\n",
       "    </tr>\n",
       "    <tr>\n",
       "      <th>C</th>\n",
       "      <td>38</td>\n",
       "      <td>40</td>\n",
       "      <td>1149.67000</td>\n",
       "      <td>False</td>\n",
       "      <td>39910</td>\n",
       "      <td>69.03000</td>\n",
       "      <td>3.41700</td>\n",
       "      <td>0.00000</td>\n",
       "      <td>0.00000</td>\n",
       "      <td>0.00000</td>\n",
       "      <td>0.00000</td>\n",
       "      <td>0.00000</td>\n",
       "      <td>131.14997</td>\n",
       "      <td>8.30000</td>\n",
       "      <td>26</td>\n",
       "      <td>6</td>\n",
       "      <td>2011</td>\n",
       "    </tr>\n",
       "  </tbody>\n",
       "</table>\n",
       "</div>"
      ],
      "text/plain": [
       "      Store  Dept  Weekly_Sales  IsHoliday    Size  Temperature  Fuel_Price  \\\n",
       "Type                                                                          \n",
       "A        24    38   10105.17000      False  202505     62.78000     3.41700   \n",
       "B        17    36    6187.87000      False  114533     58.97000     3.49400   \n",
       "C        38    40    1149.67000      False   39910     69.03000     3.41700   \n",
       "\n",
       "      MarkDown1  MarkDown2  MarkDown3  MarkDown4  MarkDown5       CPI  \\\n",
       "Type                                                                    \n",
       "A       0.00000    0.00000    0.00000    0.00000    0.00000 189.61901   \n",
       "B       0.00000    0.00000    0.00000    0.00000    0.00000 140.44479   \n",
       "C       0.00000    0.00000    0.00000    0.00000    0.00000 131.14997   \n",
       "\n",
       "      Unemployment  Semana  Mes   Ano  \n",
       "Type                                   \n",
       "A          7.81800      26    6  2011  \n",
       "B          7.87200      26    6  2011  \n",
       "C          8.30000      26    6  2011  "
      ]
     },
     "execution_count": 71,
     "metadata": {},
     "output_type": "execute_result"
    }
   ],
   "source": [
    "df.groupby('Type').median()"
   ]
  },
  {
   "cell_type": "code",
   "execution_count": 72,
   "id": "fb85b55f",
   "metadata": {
    "ExecuteTime": {
     "end_time": "2021-10-16T19:39:58.009555Z",
     "start_time": "2021-10-16T19:39:57.856556Z"
    }
   },
   "outputs": [
    {
     "data": {
      "text/plain": [
       "<AxesSubplot:xlabel='Type', ylabel='Weekly_Sales'>"
      ]
     },
     "execution_count": 72,
     "metadata": {},
     "output_type": "execute_result"
    },
    {
     "data": {
      "image/png": "[encoded data removed]",
      "text/plain": [
       "<Figure size 720x360 with 1 Axes>"
      ]
     },
     "metadata": {
      "needs_background": "light"
     },
     "output_type": "display_data"
    }
   ],
   "source": [
    "#media\n",
    "df_agg = df[['Type', 'Weekly_Sales']].groupby(by='Type').agg({\n",
    "    'Weekly_Sales':'mean'\n",
    "}).reset_index() \n",
    "plt.figure(figsize=(10,5))\n",
    "sns.barplot(x='Type', y='Weekly_Sales', data=df_agg) "
   ]
  },
  {
   "cell_type": "code",
   "execution_count": 73,
   "id": "a65fd617",
   "metadata": {
    "ExecuteTime": {
     "end_time": "2021-10-16T19:39:58.151553Z",
     "start_time": "2021-10-16T19:39:58.010554Z"
    }
   },
   "outputs": [
    {
     "data": {
      "text/plain": [
       "<AxesSubplot:xlabel='Type', ylabel='Weekly_Sales'>"
      ]
     },
     "execution_count": 73,
     "metadata": {},
     "output_type": "execute_result"
    },
    {
     "data": {
      "image/png": "[encoded data removed]",
      "text/plain": [
       "<Figure size 720x360 with 1 Axes>"
      ]
     },
     "metadata": {
      "needs_background": "light"
     },
     "output_type": "display_data"
    }
   ],
   "source": [
    "#mediana\n",
    "df_agg = df[['Type', 'Weekly_Sales']].groupby(by='Type').agg({\n",
    "    'Weekly_Sales':'median'\n",
    "}).reset_index() \n",
    "plt.figure(figsize=(10,5))\n",
    "sns.barplot(x='Type', y='Weekly_Sales', data=df_agg) "
   ]
  },
  {
   "cell_type": "code",
   "execution_count": 74,
   "id": "ef7ec245",
   "metadata": {
    "ExecuteTime": {
     "end_time": "2021-10-16T19:40:00.778580Z",
     "start_time": "2021-10-16T19:39:58.152553Z"
    }
   },
   "outputs": [
    {
     "data": {
      "image/png": "[encoded data removed]",
      "text/plain": [
       "<Figure size 1080x1080 with 2 Axes>"
      ]
     },
     "metadata": {
      "needs_background": "light"
     },
     "output_type": "display_data"
    }
   ],
   "source": [
    "plt.figure(figsize=(15,15))\n",
    "sns.heatmap(df.corr(), annot=True, cmap=\"Blues\")\n",
    "plt.show() "
   ]
  },
  {
   "cell_type": "code",
   "execution_count": 75,
   "id": "48548a58",
   "metadata": {
    "ExecuteTime": {
     "end_time": "2021-10-16T19:40:00.888556Z",
     "start_time": "2021-10-16T19:40:00.779553Z"
    }
   },
   "outputs": [],
   "source": [
    "df_anual = df.groupby(['Mes', 'Ano']).mean().reset_index()"
   ]
  },
  {
   "cell_type": "code",
   "execution_count": null,
   "id": "d350cf1d",
   "metadata": {},
   "outputs": [],
   "source": []
  },
  {
   "cell_type": "code",
   "execution_count": 76,
   "id": "7d7d7dae",
   "metadata": {
    "ExecuteTime": {
     "end_time": "2021-10-16T19:40:00.919555Z",
     "start_time": "2021-10-16T19:40:00.894556Z"
    }
   },
   "outputs": [
    {
     "data": {
      "text/html": [
       "<div>\n",
       "<style scoped>\n",
       "    .dataframe tbody tr th:only-of-type {\n",
       "        vertical-align: middle;\n",
       "    }\n",
       "\n",
       "    .dataframe tbody tr th {\n",
       "        vertical-align: top;\n",
       "    }\n",
       "\n",
       "    .dataframe thead th {\n",
       "        text-align: right;\n",
       "    }\n",
       "</style>\n",
       "<table border=\"1\" class=\"dataframe\">\n",
       "  <thead>\n",
       "    <tr style=\"text-align: right;\">\n",
       "      <th></th>\n",
       "      <th>Mes</th>\n",
       "      <th>Ano</th>\n",
       "      <th>Store</th>\n",
       "      <th>Dept</th>\n",
       "      <th>Weekly_Sales</th>\n",
       "      <th>IsHoliday</th>\n",
       "      <th>Size</th>\n",
       "      <th>Temperature</th>\n",
       "      <th>Fuel_Price</th>\n",
       "      <th>MarkDown1</th>\n",
       "      <th>MarkDown2</th>\n",
       "      <th>MarkDown3</th>\n",
       "      <th>MarkDown4</th>\n",
       "      <th>MarkDown5</th>\n",
       "      <th>CPI</th>\n",
       "      <th>Unemployment</th>\n",
       "      <th>Semana</th>\n",
       "    </tr>\n",
       "  </thead>\n",
       "  <tbody>\n",
       "    <tr>\n",
       "      <th>0</th>\n",
       "      <td>1</td>\n",
       "      <td>2011</td>\n",
       "      <td>22.14211</td>\n",
       "      <td>44.00257</td>\n",
       "      <td>13997.77399</td>\n",
       "      <td>0.00000</td>\n",
       "      <td>137153.15374</td>\n",
       "      <td>33.68518</td>\n",
       "      <td>3.11585</td>\n",
       "      <td>0.00000</td>\n",
       "      <td>0.00000</td>\n",
       "      <td>0.00000</td>\n",
       "      <td>0.00000</td>\n",
       "      <td>0.00000</td>\n",
       "      <td>168.34926</td>\n",
       "      <td>8.23831</td>\n",
       "      <td>2.49816</td>\n",
       "    </tr>\n",
       "    <tr>\n",
       "      <th>1</th>\n",
       "      <td>1</td>\n",
       "      <td>2012</td>\n",
       "      <td>22.19283</td>\n",
       "      <td>44.25553</td>\n",
       "      <td>14252.69803</td>\n",
       "      <td>0.00000</td>\n",
       "      <td>136369.49114</td>\n",
       "      <td>40.19201</td>\n",
       "      <td>3.36941</td>\n",
       "      <td>3107.31035</td>\n",
       "      <td>9387.10700</td>\n",
       "      <td>84.32868</td>\n",
       "      <td>580.77674</td>\n",
       "      <td>3650.67531</td>\n",
       "      <td>173.93425</td>\n",
       "      <td>7.48246</td>\n",
       "      <td>2.49705</td>\n",
       "    </tr>\n",
       "    <tr>\n",
       "      <th>2</th>\n",
       "      <td>2</td>\n",
       "      <td>2010</td>\n",
       "      <td>22.03404</td>\n",
       "      <td>44.24309</td>\n",
       "      <td>16076.77870</td>\n",
       "      <td>0.24968</td>\n",
       "      <td>137419.35451</td>\n",
       "      <td>35.57840</td>\n",
       "      <td>2.69329</td>\n",
       "      <td>0.00000</td>\n",
       "      <td>0.00000</td>\n",
       "      <td>0.00000</td>\n",
       "      <td>0.00000</td>\n",
       "      <td>0.00000</td>\n",
       "      <td>167.45283</td>\n",
       "      <td>8.57046</td>\n",
       "      <td>6.50038</td>\n",
       "    </tr>\n",
       "    <tr>\n",
       "      <th>3</th>\n",
       "      <td>2</td>\n",
       "      <td>2011</td>\n",
       "      <td>22.15799</td>\n",
       "      <td>44.07453</td>\n",
       "      <td>15870.14120</td>\n",
       "      <td>0.25023</td>\n",
       "      <td>136899.54723</td>\n",
       "      <td>37.21415</td>\n",
       "      <td>3.17427</td>\n",
       "      <td>0.00000</td>\n",
       "      <td>0.00000</td>\n",
       "      <td>0.00000</td>\n",
       "      <td>0.00000</td>\n",
       "      <td>0.00000</td>\n",
       "      <td>169.18178</td>\n",
       "      <td>8.23947</td>\n",
       "      <td>6.50106</td>\n",
       "    </tr>\n",
       "    <tr>\n",
       "      <th>4</th>\n",
       "      <td>2</td>\n",
       "      <td>2012</td>\n",
       "      <td>22.19915</td>\n",
       "      <td>44.54755</td>\n",
       "      <td>16077.64771</td>\n",
       "      <td>0.25121</td>\n",
       "      <td>136511.03893</td>\n",
       "      <td>41.86425</td>\n",
       "      <td>3.53402</td>\n",
       "      <td>17646.95521</td>\n",
       "      <td>5457.49257</td>\n",
       "      <td>61.97448</td>\n",
       "      <td>12370.74577</td>\n",
       "      <td>6054.92101</td>\n",
       "      <td>174.25368</td>\n",
       "      <td>7.48501</td>\n",
       "      <td>6.49824</td>\n",
       "    </tr>\n",
       "  </tbody>\n",
       "</table>\n",
       "</div>"
      ],
      "text/plain": [
       "   Mes   Ano    Store     Dept  Weekly_Sales  IsHoliday         Size  \\\n",
       "0    1  2011 22.14211 44.00257   13997.77399    0.00000 137153.15374   \n",
       "1    1  2012 22.19283 44.25553   14252.69803    0.00000 136369.49114   \n",
       "2    2  2010 22.03404 44.24309   16076.77870    0.24968 137419.35451   \n",
       "3    2  2011 22.15799 44.07453   15870.14120    0.25023 136899.54723   \n",
       "4    2  2012 22.19915 44.54755   16077.64771    0.25121 136511.03893   \n",
       "\n",
       "   Temperature  Fuel_Price   MarkDown1  MarkDown2  MarkDown3   MarkDown4  \\\n",
       "0     33.68518     3.11585     0.00000    0.00000    0.00000     0.00000   \n",
       "1     40.19201     3.36941  3107.31035 9387.10700   84.32868   580.77674   \n",
       "2     35.57840     2.69329     0.00000    0.00000    0.00000     0.00000   \n",
       "3     37.21415     3.17427     0.00000    0.00000    0.00000     0.00000   \n",
       "4     41.86425     3.53402 17646.95521 5457.49257   61.97448 12370.74577   \n",
       "\n",
       "   MarkDown5       CPI  Unemployment  Semana  \n",
       "0    0.00000 168.34926       8.23831 2.49816  \n",
       "1 3650.67531 173.93425       7.48246 2.49705  \n",
       "2    0.00000 167.45283       8.57046 6.50038  \n",
       "3    0.00000 169.18178       8.23947 6.50106  \n",
       "4 6054.92101 174.25368       7.48501 6.49824  "
      ]
     },
     "execution_count": 76,
     "metadata": {},
     "output_type": "execute_result"
    }
   ],
   "source": [
    "df_anual.head()"
   ]
  },
  {
   "cell_type": "code",
   "execution_count": 77,
   "id": "dda5117c",
   "metadata": {
    "ExecuteTime": {
     "end_time": "2021-10-16T19:40:01.117556Z",
     "start_time": "2021-10-16T19:40:00.923556Z"
    }
   },
   "outputs": [
    {
     "data": {
      "image/png": "[encoded data removed]",
      "text/plain": [
       "<Figure size 1440x720 with 1 Axes>"
      ]
     },
     "metadata": {
      "needs_background": "light"
     },
     "output_type": "display_data"
    }
   ],
   "source": [
    "plt.figure(figsize=(20,10))\n",
    "sns.boxplot(data=df_anual, x = 'Ano',  y = 'Weekly_Sales')\n",
    "plt.show()"
   ]
  },
  {
   "cell_type": "markdown",
   "id": "1e197fe4",
   "metadata": {},
   "source": [
    "# Tratamento dos Dados"
   ]
  },
  {
   "cell_type": "code",
   "execution_count": 78,
   "id": "a14ee04d",
   "metadata": {
    "ExecuteTime": {
     "end_time": "2021-10-16T19:40:01.133556Z",
     "start_time": "2021-10-16T19:40:01.119555Z"
    }
   },
   "outputs": [
    {
     "data": {
      "text/html": [
       "<div>\n",
       "<style scoped>\n",
       "    .dataframe tbody tr th:only-of-type {\n",
       "        vertical-align: middle;\n",
       "    }\n",
       "\n",
       "    .dataframe tbody tr th {\n",
       "        vertical-align: top;\n",
       "    }\n",
       "\n",
       "    .dataframe thead th {\n",
       "        text-align: right;\n",
       "    }\n",
       "</style>\n",
       "<table border=\"1\" class=\"dataframe\">\n",
       "  <thead>\n",
       "    <tr style=\"text-align: right;\">\n",
       "      <th></th>\n",
       "      <th>Store</th>\n",
       "      <th>Dept</th>\n",
       "      <th>Date</th>\n",
       "      <th>Weekly_Sales</th>\n",
       "      <th>IsHoliday</th>\n",
       "      <th>Type</th>\n",
       "      <th>Size</th>\n",
       "      <th>Temperature</th>\n",
       "      <th>Fuel_Price</th>\n",
       "      <th>MarkDown1</th>\n",
       "      <th>MarkDown2</th>\n",
       "      <th>MarkDown3</th>\n",
       "      <th>MarkDown4</th>\n",
       "      <th>MarkDown5</th>\n",
       "      <th>CPI</th>\n",
       "      <th>Unemployment</th>\n",
       "      <th>Semana</th>\n",
       "      <th>Mes</th>\n",
       "      <th>Ano</th>\n",
       "    </tr>\n",
       "  </thead>\n",
       "  <tbody>\n",
       "    <tr>\n",
       "      <th>0</th>\n",
       "      <td>1</td>\n",
       "      <td>1</td>\n",
       "      <td>2010-02-05</td>\n",
       "      <td>24924.50000</td>\n",
       "      <td>False</td>\n",
       "      <td>A</td>\n",
       "      <td>151315</td>\n",
       "      <td>42.31000</td>\n",
       "      <td>2.57200</td>\n",
       "      <td>0.00000</td>\n",
       "      <td>0.00000</td>\n",
       "      <td>0.00000</td>\n",
       "      <td>0.00000</td>\n",
       "      <td>0.00000</td>\n",
       "      <td>211.09636</td>\n",
       "      <td>8.10600</td>\n",
       "      <td>5</td>\n",
       "      <td>2</td>\n",
       "      <td>2010</td>\n",
       "    </tr>\n",
       "    <tr>\n",
       "      <th>1</th>\n",
       "      <td>1</td>\n",
       "      <td>1</td>\n",
       "      <td>2010-02-12</td>\n",
       "      <td>46039.49000</td>\n",
       "      <td>True</td>\n",
       "      <td>A</td>\n",
       "      <td>151315</td>\n",
       "      <td>38.51000</td>\n",
       "      <td>2.54800</td>\n",
       "      <td>0.00000</td>\n",
       "      <td>0.00000</td>\n",
       "      <td>0.00000</td>\n",
       "      <td>0.00000</td>\n",
       "      <td>0.00000</td>\n",
       "      <td>211.24217</td>\n",
       "      <td>8.10600</td>\n",
       "      <td>6</td>\n",
       "      <td>2</td>\n",
       "      <td>2010</td>\n",
       "    </tr>\n",
       "    <tr>\n",
       "      <th>2</th>\n",
       "      <td>1</td>\n",
       "      <td>1</td>\n",
       "      <td>2010-02-19</td>\n",
       "      <td>41595.55000</td>\n",
       "      <td>False</td>\n",
       "      <td>A</td>\n",
       "      <td>151315</td>\n",
       "      <td>39.93000</td>\n",
       "      <td>2.51400</td>\n",
       "      <td>0.00000</td>\n",
       "      <td>0.00000</td>\n",
       "      <td>0.00000</td>\n",
       "      <td>0.00000</td>\n",
       "      <td>0.00000</td>\n",
       "      <td>211.28914</td>\n",
       "      <td>8.10600</td>\n",
       "      <td>7</td>\n",
       "      <td>2</td>\n",
       "      <td>2010</td>\n",
       "    </tr>\n",
       "    <tr>\n",
       "      <th>3</th>\n",
       "      <td>1</td>\n",
       "      <td>1</td>\n",
       "      <td>2010-02-26</td>\n",
       "      <td>19403.54000</td>\n",
       "      <td>False</td>\n",
       "      <td>A</td>\n",
       "      <td>151315</td>\n",
       "      <td>46.63000</td>\n",
       "      <td>2.56100</td>\n",
       "      <td>0.00000</td>\n",
       "      <td>0.00000</td>\n",
       "      <td>0.00000</td>\n",
       "      <td>0.00000</td>\n",
       "      <td>0.00000</td>\n",
       "      <td>211.31964</td>\n",
       "      <td>8.10600</td>\n",
       "      <td>8</td>\n",
       "      <td>2</td>\n",
       "      <td>2010</td>\n",
       "    </tr>\n",
       "    <tr>\n",
       "      <th>4</th>\n",
       "      <td>1</td>\n",
       "      <td>1</td>\n",
       "      <td>2010-03-05</td>\n",
       "      <td>21827.90000</td>\n",
       "      <td>False</td>\n",
       "      <td>A</td>\n",
       "      <td>151315</td>\n",
       "      <td>46.50000</td>\n",
       "      <td>2.62500</td>\n",
       "      <td>0.00000</td>\n",
       "      <td>0.00000</td>\n",
       "      <td>0.00000</td>\n",
       "      <td>0.00000</td>\n",
       "      <td>0.00000</td>\n",
       "      <td>211.35014</td>\n",
       "      <td>8.10600</td>\n",
       "      <td>9</td>\n",
       "      <td>3</td>\n",
       "      <td>2010</td>\n",
       "    </tr>\n",
       "  </tbody>\n",
       "</table>\n",
       "</div>"
      ],
      "text/plain": [
       "   Store  Dept       Date  Weekly_Sales  IsHoliday Type    Size  Temperature  \\\n",
       "0      1     1 2010-02-05   24924.50000      False    A  151315     42.31000   \n",
       "1      1     1 2010-02-12   46039.49000       True    A  151315     38.51000   \n",
       "2      1     1 2010-02-19   41595.55000      False    A  151315     39.93000   \n",
       "3      1     1 2010-02-26   19403.54000      False    A  151315     46.63000   \n",
       "4      1     1 2010-03-05   21827.90000      False    A  151315     46.50000   \n",
       "\n",
       "   Fuel_Price  MarkDown1  MarkDown2  MarkDown3  MarkDown4  MarkDown5  \\\n",
       "0     2.57200    0.00000    0.00000    0.00000    0.00000    0.00000   \n",
       "1     2.54800    0.00000    0.00000    0.00000    0.00000    0.00000   \n",
       "2     2.51400    0.00000    0.00000    0.00000    0.00000    0.00000   \n",
       "3     2.56100    0.00000    0.00000    0.00000    0.00000    0.00000   \n",
       "4     2.62500    0.00000    0.00000    0.00000    0.00000    0.00000   \n",
       "\n",
       "        CPI  Unemployment  Semana  Mes   Ano  \n",
       "0 211.09636       8.10600       5    2  2010  \n",
       "1 211.24217       8.10600       6    2  2010  \n",
       "2 211.28914       8.10600       7    2  2010  \n",
       "3 211.31964       8.10600       8    2  2010  \n",
       "4 211.35014       8.10600       9    3  2010  "
      ]
     },
     "execution_count": 78,
     "metadata": {},
     "output_type": "execute_result"
    }
   ],
   "source": [
    "df.head()"
   ]
  },
  {
   "cell_type": "code",
   "execution_count": 79,
   "id": "460fab3e",
   "metadata": {
    "ExecuteTime": {
     "end_time": "2021-10-16T19:40:01.164554Z",
     "start_time": "2021-10-16T19:40:01.136557Z"
    }
   },
   "outputs": [],
   "source": [
    "col_types = pd.get_dummies(df['Type'])"
   ]
  },
  {
   "cell_type": "code",
   "execution_count": 80,
   "id": "c2383e9c",
   "metadata": {
    "ExecuteTime": {
     "end_time": "2021-10-16T19:40:01.210554Z",
     "start_time": "2021-10-16T19:40:01.166556Z"
    }
   },
   "outputs": [],
   "source": [
    "df['A'] = col_types['A']\n",
    "df['B'] = col_types['B']\n",
    "df['C'] = col_types['C']\n",
    "df.drop(columns='Type', inplace=True)"
   ]
  },
  {
   "cell_type": "code",
   "execution_count": 81,
   "id": "1c1e4b22",
   "metadata": {
    "ExecuteTime": {
     "end_time": "2021-10-16T19:40:01.225553Z",
     "start_time": "2021-10-16T19:40:01.211555Z"
    }
   },
   "outputs": [],
   "source": [
    "df['IsHoliday'] = df['IsHoliday'].astype('int')"
   ]
  },
  {
   "cell_type": "code",
   "execution_count": 82,
   "id": "59fb1f8a",
   "metadata": {
    "ExecuteTime": {
     "end_time": "2021-10-16T19:40:01.257555Z",
     "start_time": "2021-10-16T19:40:01.227555Z"
    }
   },
   "outputs": [
    {
     "data": {
      "text/html": [
       "<div>\n",
       "<style scoped>\n",
       "    .dataframe tbody tr th:only-of-type {\n",
       "        vertical-align: middle;\n",
       "    }\n",
       "\n",
       "    .dataframe tbody tr th {\n",
       "        vertical-align: top;\n",
       "    }\n",
       "\n",
       "    .dataframe thead th {\n",
       "        text-align: right;\n",
       "    }\n",
       "</style>\n",
       "<table border=\"1\" class=\"dataframe\">\n",
       "  <thead>\n",
       "    <tr style=\"text-align: right;\">\n",
       "      <th></th>\n",
       "      <th>Store</th>\n",
       "      <th>Dept</th>\n",
       "      <th>Date</th>\n",
       "      <th>Weekly_Sales</th>\n",
       "      <th>IsHoliday</th>\n",
       "      <th>Size</th>\n",
       "      <th>Temperature</th>\n",
       "      <th>Fuel_Price</th>\n",
       "      <th>MarkDown1</th>\n",
       "      <th>MarkDown2</th>\n",
       "      <th>...</th>\n",
       "      <th>MarkDown4</th>\n",
       "      <th>MarkDown5</th>\n",
       "      <th>CPI</th>\n",
       "      <th>Unemployment</th>\n",
       "      <th>Semana</th>\n",
       "      <th>Mes</th>\n",
       "      <th>Ano</th>\n",
       "      <th>A</th>\n",
       "      <th>B</th>\n",
       "      <th>C</th>\n",
       "    </tr>\n",
       "  </thead>\n",
       "  <tbody>\n",
       "    <tr>\n",
       "      <th>0</th>\n",
       "      <td>1</td>\n",
       "      <td>1</td>\n",
       "      <td>2010-02-05</td>\n",
       "      <td>24924.50000</td>\n",
       "      <td>0</td>\n",
       "      <td>151315</td>\n",
       "      <td>42.31000</td>\n",
       "      <td>2.57200</td>\n",
       "      <td>0.00000</td>\n",
       "      <td>0.00000</td>\n",
       "      <td>...</td>\n",
       "      <td>0.00000</td>\n",
       "      <td>0.00000</td>\n",
       "      <td>211.09636</td>\n",
       "      <td>8.10600</td>\n",
       "      <td>5</td>\n",
       "      <td>2</td>\n",
       "      <td>2010</td>\n",
       "      <td>1</td>\n",
       "      <td>0</td>\n",
       "      <td>0</td>\n",
       "    </tr>\n",
       "    <tr>\n",
       "      <th>1</th>\n",
       "      <td>1</td>\n",
       "      <td>1</td>\n",
       "      <td>2010-02-12</td>\n",
       "      <td>46039.49000</td>\n",
       "      <td>1</td>\n",
       "      <td>151315</td>\n",
       "      <td>38.51000</td>\n",
       "      <td>2.54800</td>\n",
       "      <td>0.00000</td>\n",
       "      <td>0.00000</td>\n",
       "      <td>...</td>\n",
       "      <td>0.00000</td>\n",
       "      <td>0.00000</td>\n",
       "      <td>211.24217</td>\n",
       "      <td>8.10600</td>\n",
       "      <td>6</td>\n",
       "      <td>2</td>\n",
       "      <td>2010</td>\n",
       "      <td>1</td>\n",
       "      <td>0</td>\n",
       "      <td>0</td>\n",
       "    </tr>\n",
       "    <tr>\n",
       "      <th>2</th>\n",
       "      <td>1</td>\n",
       "      <td>1</td>\n",
       "      <td>2010-02-19</td>\n",
       "      <td>41595.55000</td>\n",
       "      <td>0</td>\n",
       "      <td>151315</td>\n",
       "      <td>39.93000</td>\n",
       "      <td>2.51400</td>\n",
       "      <td>0.00000</td>\n",
       "      <td>0.00000</td>\n",
       "      <td>...</td>\n",
       "      <td>0.00000</td>\n",
       "      <td>0.00000</td>\n",
       "      <td>211.28914</td>\n",
       "      <td>8.10600</td>\n",
       "      <td>7</td>\n",
       "      <td>2</td>\n",
       "      <td>2010</td>\n",
       "      <td>1</td>\n",
       "      <td>0</td>\n",
       "      <td>0</td>\n",
       "    </tr>\n",
       "    <tr>\n",
       "      <th>3</th>\n",
       "      <td>1</td>\n",
       "      <td>1</td>\n",
       "      <td>2010-02-26</td>\n",
       "      <td>19403.54000</td>\n",
       "      <td>0</td>\n",
       "      <td>151315</td>\n",
       "      <td>46.63000</td>\n",
       "      <td>2.56100</td>\n",
       "      <td>0.00000</td>\n",
       "      <td>0.00000</td>\n",
       "      <td>...</td>\n",
       "      <td>0.00000</td>\n",
       "      <td>0.00000</td>\n",
       "      <td>211.31964</td>\n",
       "      <td>8.10600</td>\n",
       "      <td>8</td>\n",
       "      <td>2</td>\n",
       "      <td>2010</td>\n",
       "      <td>1</td>\n",
       "      <td>0</td>\n",
       "      <td>0</td>\n",
       "    </tr>\n",
       "    <tr>\n",
       "      <th>4</th>\n",
       "      <td>1</td>\n",
       "      <td>1</td>\n",
       "      <td>2010-03-05</td>\n",
       "      <td>21827.90000</td>\n",
       "      <td>0</td>\n",
       "      <td>151315</td>\n",
       "      <td>46.50000</td>\n",
       "      <td>2.62500</td>\n",
       "      <td>0.00000</td>\n",
       "      <td>0.00000</td>\n",
       "      <td>...</td>\n",
       "      <td>0.00000</td>\n",
       "      <td>0.00000</td>\n",
       "      <td>211.35014</td>\n",
       "      <td>8.10600</td>\n",
       "      <td>9</td>\n",
       "      <td>3</td>\n",
       "      <td>2010</td>\n",
       "      <td>1</td>\n",
       "      <td>0</td>\n",
       "      <td>0</td>\n",
       "    </tr>\n",
       "  </tbody>\n",
       "</table>\n",
       "<p>5 rows × 21 columns</p>\n",
       "</div>"
      ],
      "text/plain": [
       "   Store  Dept       Date  Weekly_Sales  IsHoliday    Size  Temperature  \\\n",
       "0      1     1 2010-02-05   24924.50000          0  151315     42.31000   \n",
       "1      1     1 2010-02-12   46039.49000          1  151315     38.51000   \n",
       "2      1     1 2010-02-19   41595.55000          0  151315     39.93000   \n",
       "3      1     1 2010-02-26   19403.54000          0  151315     46.63000   \n",
       "4      1     1 2010-03-05   21827.90000          0  151315     46.50000   \n",
       "\n",
       "   Fuel_Price  MarkDown1  MarkDown2  ...  MarkDown4  MarkDown5       CPI  \\\n",
       "0     2.57200    0.00000    0.00000  ...    0.00000    0.00000 211.09636   \n",
       "1     2.54800    0.00000    0.00000  ...    0.00000    0.00000 211.24217   \n",
       "2     2.51400    0.00000    0.00000  ...    0.00000    0.00000 211.28914   \n",
       "3     2.56100    0.00000    0.00000  ...    0.00000    0.00000 211.31964   \n",
       "4     2.62500    0.00000    0.00000  ...    0.00000    0.00000 211.35014   \n",
       "\n",
       "   Unemployment  Semana  Mes   Ano  A  B  C  \n",
       "0       8.10600       5    2  2010  1  0  0  \n",
       "1       8.10600       6    2  2010  1  0  0  \n",
       "2       8.10600       7    2  2010  1  0  0  \n",
       "3       8.10600       8    2  2010  1  0  0  \n",
       "4       8.10600       9    3  2010  1  0  0  \n",
       "\n",
       "[5 rows x 21 columns]"
      ]
     },
     "execution_count": 82,
     "metadata": {},
     "output_type": "execute_result"
    }
   ],
   "source": [
    "df.head()"
   ]
  },
  {
   "cell_type": "code",
   "execution_count": 83,
   "id": "7741f631",
   "metadata": {
    "ExecuteTime": {
     "end_time": "2021-10-16T19:40:01.272554Z",
     "start_time": "2021-10-16T19:40:01.259555Z"
    }
   },
   "outputs": [
    {
     "data": {
      "text/plain": [
       "0    391909\n",
       "1     29661\n",
       "Name: IsHoliday, dtype: int64"
      ]
     },
     "execution_count": 83,
     "metadata": {},
     "output_type": "execute_result"
    }
   ],
   "source": [
    "df['IsHoliday'].value_counts()"
   ]
  },
  {
   "cell_type": "markdown",
   "id": "ede68358",
   "metadata": {},
   "source": [
    "# Análise Micro"
   ]
  },
  {
   "cell_type": "markdown",
   "id": "5fc42e6c",
   "metadata": {},
   "source": [
    "## Separação de Treino e Teste"
   ]
  },
  {
   "cell_type": "code",
   "execution_count": 84,
   "id": "89ce0c68",
   "metadata": {
    "ExecuteTime": {
     "end_time": "2021-10-16T19:40:01.287556Z",
     "start_time": "2021-10-16T19:40:01.277556Z"
    }
   },
   "outputs": [],
   "source": [
    "from sklearn.preprocessing import StandardScaler "
   ]
  },
  {
   "cell_type": "code",
   "execution_count": 85,
   "id": "4e4e99f1",
   "metadata": {
    "ExecuteTime": {
     "end_time": "2021-10-16T19:40:01.334556Z",
     "start_time": "2021-10-16T19:40:01.290555Z"
    }
   },
   "outputs": [],
   "source": [
    "df_ml = df.drop(columns = ['Date', 'Semana', 'Mes', 'Ano'])"
   ]
  },
  {
   "cell_type": "code",
   "execution_count": 86,
   "id": "8355fdbe",
   "metadata": {
    "ExecuteTime": {
     "end_time": "2021-10-16T19:40:01.520579Z",
     "start_time": "2021-10-16T19:40:01.335556Z"
    }
   },
   "outputs": [],
   "source": [
    "scaler = StandardScaler()\n",
    "scaler.fit(df_ml)\n",
    "\n",
    "df_ml_scaled = scaler.transform(df_ml)\n",
    "\n",
    "df_ml_scaled = pd.DataFrame(df_ml_scaled, columns = df_ml.columns) "
   ]
  },
  {
   "cell_type": "code",
   "execution_count": 87,
   "id": "9dc7e842",
   "metadata": {
    "ExecuteTime": {
     "end_time": "2021-10-16T19:40:01.536556Z",
     "start_time": "2021-10-16T19:40:01.521554Z"
    }
   },
   "outputs": [
    {
     "data": {
      "text/html": [
       "<div>\n",
       "<style scoped>\n",
       "    .dataframe tbody tr th:only-of-type {\n",
       "        vertical-align: middle;\n",
       "    }\n",
       "\n",
       "    .dataframe tbody tr th {\n",
       "        vertical-align: top;\n",
       "    }\n",
       "\n",
       "    .dataframe thead th {\n",
       "        text-align: right;\n",
       "    }\n",
       "</style>\n",
       "<table border=\"1\" class=\"dataframe\">\n",
       "  <thead>\n",
       "    <tr style=\"text-align: right;\">\n",
       "      <th></th>\n",
       "      <th>Store</th>\n",
       "      <th>Dept</th>\n",
       "      <th>Weekly_Sales</th>\n",
       "      <th>IsHoliday</th>\n",
       "      <th>Size</th>\n",
       "      <th>Temperature</th>\n",
       "      <th>Fuel_Price</th>\n",
       "      <th>MarkDown1</th>\n",
       "      <th>MarkDown2</th>\n",
       "      <th>MarkDown3</th>\n",
       "      <th>MarkDown4</th>\n",
       "      <th>MarkDown5</th>\n",
       "      <th>CPI</th>\n",
       "      <th>Unemployment</th>\n",
       "      <th>A</th>\n",
       "      <th>B</th>\n",
       "      <th>C</th>\n",
       "    </tr>\n",
       "  </thead>\n",
       "  <tbody>\n",
       "    <tr>\n",
       "      <th>0</th>\n",
       "      <td>-1.65820</td>\n",
       "      <td>-1.41874</td>\n",
       "      <td>0.39378</td>\n",
       "      <td>-0.27511</td>\n",
       "      <td>0.23921</td>\n",
       "      <td>-0.96380</td>\n",
       "      <td>-1.72083</td>\n",
       "      <td>-0.42794</td>\n",
       "      <td>-0.17307</td>\n",
       "      <td>-0.08466</td>\n",
       "      <td>-0.27812</td>\n",
       "      <td>-0.39518</td>\n",
       "      <td>1.01877</td>\n",
       "      <td>0.07820</td>\n",
       "      <td>0.97798</td>\n",
       "      <td>-0.79594</td>\n",
       "      <td>-0.33526</td>\n",
       "    </tr>\n",
       "    <tr>\n",
       "      <th>1</th>\n",
       "      <td>-1.65820</td>\n",
       "      <td>-1.41874</td>\n",
       "      <td>1.32350</td>\n",
       "      <td>3.63496</td>\n",
       "      <td>0.23921</td>\n",
       "      <td>-1.16978</td>\n",
       "      <td>-1.77318</td>\n",
       "      <td>-0.42794</td>\n",
       "      <td>-0.17307</td>\n",
       "      <td>-0.08466</td>\n",
       "      <td>-0.27812</td>\n",
       "      <td>-0.39518</td>\n",
       "      <td>1.02250</td>\n",
       "      <td>0.07820</td>\n",
       "      <td>0.97798</td>\n",
       "      <td>-0.79594</td>\n",
       "      <td>-0.33526</td>\n",
       "    </tr>\n",
       "    <tr>\n",
       "      <th>2</th>\n",
       "      <td>-1.65820</td>\n",
       "      <td>-1.41874</td>\n",
       "      <td>1.12783</td>\n",
       "      <td>-0.27511</td>\n",
       "      <td>0.23921</td>\n",
       "      <td>-1.09281</td>\n",
       "      <td>-1.84733</td>\n",
       "      <td>-0.42794</td>\n",
       "      <td>-0.17307</td>\n",
       "      <td>-0.08466</td>\n",
       "      <td>-0.27812</td>\n",
       "      <td>-0.39518</td>\n",
       "      <td>1.02370</td>\n",
       "      <td>0.07820</td>\n",
       "      <td>0.97798</td>\n",
       "      <td>-0.79594</td>\n",
       "      <td>-0.33526</td>\n",
       "    </tr>\n",
       "    <tr>\n",
       "      <th>3</th>\n",
       "      <td>-1.65820</td>\n",
       "      <td>-1.41874</td>\n",
       "      <td>0.15069</td>\n",
       "      <td>-0.27511</td>\n",
       "      <td>0.23921</td>\n",
       "      <td>-0.72963</td>\n",
       "      <td>-1.74482</td>\n",
       "      <td>-0.42794</td>\n",
       "      <td>-0.17307</td>\n",
       "      <td>-0.08466</td>\n",
       "      <td>-0.27812</td>\n",
       "      <td>-0.39518</td>\n",
       "      <td>1.02448</td>\n",
       "      <td>0.07820</td>\n",
       "      <td>0.97798</td>\n",
       "      <td>-0.79594</td>\n",
       "      <td>-0.33526</td>\n",
       "    </tr>\n",
       "    <tr>\n",
       "      <th>4</th>\n",
       "      <td>-1.65820</td>\n",
       "      <td>-1.41874</td>\n",
       "      <td>0.25743</td>\n",
       "      <td>-0.27511</td>\n",
       "      <td>0.23921</td>\n",
       "      <td>-0.73667</td>\n",
       "      <td>-1.60524</td>\n",
       "      <td>-0.42794</td>\n",
       "      <td>-0.17307</td>\n",
       "      <td>-0.08466</td>\n",
       "      <td>-0.27812</td>\n",
       "      <td>-0.39518</td>\n",
       "      <td>1.02526</td>\n",
       "      <td>0.07820</td>\n",
       "      <td>0.97798</td>\n",
       "      <td>-0.79594</td>\n",
       "      <td>-0.33526</td>\n",
       "    </tr>\n",
       "    <tr>\n",
       "      <th>...</th>\n",
       "      <td>...</td>\n",
       "      <td>...</td>\n",
       "      <td>...</td>\n",
       "      <td>...</td>\n",
       "      <td>...</td>\n",
       "      <td>...</td>\n",
       "      <td>...</td>\n",
       "      <td>...</td>\n",
       "      <td>...</td>\n",
       "      <td>...</td>\n",
       "      <td>...</td>\n",
       "      <td>...</td>\n",
       "      <td>...</td>\n",
       "      <td>...</td>\n",
       "      <td>...</td>\n",
       "      <td>...</td>\n",
       "      <td>...</td>\n",
       "    </tr>\n",
       "    <tr>\n",
       "      <th>421565</th>\n",
       "      <td>1.78326</td>\n",
       "      <td>1.76242</td>\n",
       "      <td>-0.68129</td>\n",
       "      <td>-0.27511</td>\n",
       "      <td>-0.30349</td>\n",
       "      <td>0.25965</td>\n",
       "      <td>1.38703</td>\n",
       "      <td>0.32492</td>\n",
       "      <td>-0.16901</td>\n",
       "      <td>-0.08439</td>\n",
       "      <td>0.13298</td>\n",
       "      <td>0.38632</td>\n",
       "      <td>0.53146</td>\n",
       "      <td>0.38840</td>\n",
       "      <td>-1.02252</td>\n",
       "      <td>1.25638</td>\n",
       "      <td>-0.33526</td>\n",
       "    </tr>\n",
       "    <tr>\n",
       "      <th>421566</th>\n",
       "      <td>1.78326</td>\n",
       "      <td>1.76242</td>\n",
       "      <td>-0.67602</td>\n",
       "      <td>-0.27511</td>\n",
       "      <td>-0.30349</td>\n",
       "      <td>0.26019</td>\n",
       "      <td>1.36086</td>\n",
       "      <td>0.40590</td>\n",
       "      <td>-0.17307</td>\n",
       "      <td>-0.08126</td>\n",
       "      <td>0.30050</td>\n",
       "      <td>0.16095</td>\n",
       "      <td>0.53547</td>\n",
       "      <td>0.37928</td>\n",
       "      <td>-1.02252</td>\n",
       "      <td>1.25638</td>\n",
       "      <td>-0.33526</td>\n",
       "    </tr>\n",
       "    <tr>\n",
       "      <th>421567</th>\n",
       "      <td>1.78326</td>\n",
       "      <td>1.76242</td>\n",
       "      <td>-0.65696</td>\n",
       "      <td>-0.27511</td>\n",
       "      <td>-0.30349</td>\n",
       "      <td>-0.30464</td>\n",
       "      <td>1.39357</td>\n",
       "      <td>-0.10472</td>\n",
       "      <td>-0.17307</td>\n",
       "      <td>-0.08324</td>\n",
       "      <td>-0.12423</td>\n",
       "      <td>0.55323</td>\n",
       "      <td>0.53947</td>\n",
       "      <td>0.37928</td>\n",
       "      <td>-1.02252</td>\n",
       "      <td>1.25638</td>\n",
       "      <td>-0.33526</td>\n",
       "    </tr>\n",
       "    <tr>\n",
       "      <th>421568</th>\n",
       "      <td>1.78326</td>\n",
       "      <td>1.76242</td>\n",
       "      <td>-0.67021</td>\n",
       "      <td>-0.27511</td>\n",
       "      <td>-0.30349</td>\n",
       "      <td>-0.19623</td>\n",
       "      <td>1.32596</td>\n",
       "      <td>-0.09683</td>\n",
       "      <td>-0.17307</td>\n",
       "      <td>-0.08409</td>\n",
       "      <td>-0.16572</td>\n",
       "      <td>-0.02978</td>\n",
       "      <td>0.53956</td>\n",
       "      <td>0.37928</td>\n",
       "      <td>-1.02252</td>\n",
       "      <td>1.25638</td>\n",
       "      <td>-0.33526</td>\n",
       "    </tr>\n",
       "    <tr>\n",
       "      <th>421569</th>\n",
       "      <td>1.78326</td>\n",
       "      <td>1.76242</td>\n",
       "      <td>-0.65626</td>\n",
       "      <td>-0.27511</td>\n",
       "      <td>-0.30349</td>\n",
       "      <td>-0.06722</td>\n",
       "      <td>1.13622</td>\n",
       "      <td>0.23608</td>\n",
       "      <td>-0.16165</td>\n",
       "      <td>-0.06658</td>\n",
       "      <td>-0.22370</td>\n",
       "      <td>-0.19119</td>\n",
       "      <td>0.53900</td>\n",
       "      <td>0.37928</td>\n",
       "      <td>-1.02252</td>\n",
       "      <td>1.25638</td>\n",
       "      <td>-0.33526</td>\n",
       "    </tr>\n",
       "  </tbody>\n",
       "</table>\n",
       "<p>421570 rows × 17 columns</p>\n",
       "</div>"
      ],
      "text/plain": [
       "          Store     Dept  Weekly_Sales  IsHoliday     Size  Temperature  \\\n",
       "0      -1.65820 -1.41874       0.39378   -0.27511  0.23921     -0.96380   \n",
       "1      -1.65820 -1.41874       1.32350    3.63496  0.23921     -1.16978   \n",
       "2      -1.65820 -1.41874       1.12783   -0.27511  0.23921     -1.09281   \n",
       "3      -1.65820 -1.41874       0.15069   -0.27511  0.23921     -0.72963   \n",
       "4      -1.65820 -1.41874       0.25743   -0.27511  0.23921     -0.73667   \n",
       "...         ...      ...           ...        ...      ...          ...   \n",
       "421565  1.78326  1.76242      -0.68129   -0.27511 -0.30349      0.25965   \n",
       "421566  1.78326  1.76242      -0.67602   -0.27511 -0.30349      0.26019   \n",
       "421567  1.78326  1.76242      -0.65696   -0.27511 -0.30349     -0.30464   \n",
       "421568  1.78326  1.76242      -0.67021   -0.27511 -0.30349     -0.19623   \n",
       "421569  1.78326  1.76242      -0.65626   -0.27511 -0.30349     -0.06722   \n",
       "\n",
       "        Fuel_Price  MarkDown1  MarkDown2  MarkDown3  MarkDown4  MarkDown5  \\\n",
       "0         -1.72083   -0.42794   -0.17307   -0.08466   -0.27812   -0.39518   \n",
       "1         -1.77318   -0.42794   -0.17307   -0.08466   -0.27812   -0.39518   \n",
       "2         -1.84733   -0.42794   -0.17307   -0.08466   -0.27812   -0.39518   \n",
       "3         -1.74482   -0.42794   -0.17307   -0.08466   -0.27812   -0.39518   \n",
       "4         -1.60524   -0.42794   -0.17307   -0.08466   -0.27812   -0.39518   \n",
       "...            ...        ...        ...        ...        ...        ...   \n",
       "421565     1.38703    0.32492   -0.16901   -0.08439    0.13298    0.38632   \n",
       "421566     1.36086    0.40590   -0.17307   -0.08126    0.30050    0.16095   \n",
       "421567     1.39357   -0.10472   -0.17307   -0.08324   -0.12423    0.55323   \n",
       "421568     1.32596   -0.09683   -0.17307   -0.08409   -0.16572   -0.02978   \n",
       "421569     1.13622    0.23608   -0.16165   -0.06658   -0.22370   -0.19119   \n",
       "\n",
       "           CPI  Unemployment        A        B        C  \n",
       "0      1.01877       0.07820  0.97798 -0.79594 -0.33526  \n",
       "1      1.02250       0.07820  0.97798 -0.79594 -0.33526  \n",
       "2      1.02370       0.07820  0.97798 -0.79594 -0.33526  \n",
       "3      1.02448       0.07820  0.97798 -0.79594 -0.33526  \n",
       "4      1.02526       0.07820  0.97798 -0.79594 -0.33526  \n",
       "...        ...           ...      ...      ...      ...  \n",
       "421565 0.53146       0.38840 -1.02252  1.25638 -0.33526  \n",
       "421566 0.53547       0.37928 -1.02252  1.25638 -0.33526  \n",
       "421567 0.53947       0.37928 -1.02252  1.25638 -0.33526  \n",
       "421568 0.53956       0.37928 -1.02252  1.25638 -0.33526  \n",
       "421569 0.53900       0.37928 -1.02252  1.25638 -0.33526  \n",
       "\n",
       "[421570 rows x 17 columns]"
      ]
     },
     "execution_count": 87,
     "metadata": {},
     "output_type": "execute_result"
    }
   ],
   "source": [
    "df_ml_scaled"
   ]
  },
  {
   "cell_type": "code",
   "execution_count": 88,
   "id": "d4f6b580",
   "metadata": {
    "ExecuteTime": {
     "end_time": "2021-10-16T19:40:01.552579Z",
     "start_time": "2021-10-16T19:40:01.537555Z"
    }
   },
   "outputs": [],
   "source": [
    "df_ml_sample = df_ml_scaled.sample(1000, random_state = 1)"
   ]
  },
  {
   "cell_type": "code",
   "execution_count": 89,
   "id": "5f7ffc2e",
   "metadata": {
    "ExecuteTime": {
     "end_time": "2021-10-16T19:40:01.568557Z",
     "start_time": "2021-10-16T19:40:01.553555Z"
    }
   },
   "outputs": [],
   "source": [
    "X = df_ml_sample.drop(columns= 'Weekly_Sales')\n",
    "y = df_ml_sample['Weekly_Sales']"
   ]
  },
  {
   "cell_type": "code",
   "execution_count": 90,
   "id": "862647d1",
   "metadata": {
    "ExecuteTime": {
     "end_time": "2021-10-16T19:40:01.583556Z",
     "start_time": "2021-10-16T19:40:01.569556Z"
    }
   },
   "outputs": [
    {
     "data": {
      "text/plain": [
       "(1000, 16)"
      ]
     },
     "execution_count": 90,
     "metadata": {},
     "output_type": "execute_result"
    }
   ],
   "source": [
    "X.shape"
   ]
  },
  {
   "cell_type": "markdown",
   "id": "1c66b9f6",
   "metadata": {},
   "source": [
    "## Treinamento Padrão de Modelos"
   ]
  },
  {
   "cell_type": "code",
   "execution_count": 91,
   "id": "15173682",
   "metadata": {
    "ExecuteTime": {
     "end_time": "2021-10-16T19:40:01.598573Z",
     "start_time": "2021-10-16T19:40:01.584554Z"
    }
   },
   "outputs": [],
   "source": [
    "from sklearn.metrics import r2_score, mean_squared_error "
   ]
  },
  {
   "cell_type": "code",
   "execution_count": 92,
   "id": "512deeec",
   "metadata": {
    "ExecuteTime": {
     "end_time": "2021-10-16T19:40:01.613556Z",
     "start_time": "2021-10-16T19:40:01.599553Z"
    }
   },
   "outputs": [],
   "source": [
    "def avaliar_modelo(nome_modelo, y_teste, previsao):\n",
    "    r2 = r2_score(y_teste, previsao)\n",
    "    RSME = np.sqrt(mean_squared_error(y_teste, previsao))\n",
    "    return f'Modelo: {nome_modelo}\\nR2:{r2:.2}\\nRSME:{RSME:.2f}\\n' "
   ]
  },
  {
   "cell_type": "code",
   "execution_count": 93,
   "id": "eef183fc",
   "metadata": {
    "ExecuteTime": {
     "end_time": "2021-10-16T19:40:01.629574Z",
     "start_time": "2021-10-16T19:40:01.614586Z"
    }
   },
   "outputs": [
    {
     "data": {
      "text/plain": [
       "'\\na. Linear Regression \\nb. SGDRegressor\\nc. GradientBoostingRegressor\\nd. ExtraTreesRegressor\\ne. RandomForestRegressor\\nf. HuberReg\\n7. Definição do Modelo: \\n'"
      ]
     },
     "execution_count": 93,
     "metadata": {},
     "output_type": "execute_result"
    }
   ],
   "source": [
    "'''\n",
    "a. Linear Regression \n",
    "b. SGDRegressor\n",
    "c. GradientBoostingRegressor\n",
    "d. ExtraTreesRegressor\n",
    "e. RandomForestRegressor\n",
    "f. HuberReg\n",
    "7. Definição do Modelo: \n",
    "'''"
   ]
  },
  {
   "cell_type": "code",
   "execution_count": 95,
   "id": "65e3df4e",
   "metadata": {
    "ExecuteTime": {
     "end_time": "2021-10-16T19:40:54.620940Z",
     "start_time": "2021-10-16T19:40:53.481057Z"
    }
   },
   "outputs": [
    {
     "name": "stdout",
     "output_type": "stream",
     "text": [
      "Modelo: RandomForest\n",
      "R2:0.59\n",
      "RSME:0.62\n",
      "\n",
      "Modelo: LinearRegression\n",
      "R2:0.082\n",
      "RSME:0.92\n",
      "\n",
      "Modelo: ExtraTrees\n",
      "R2:0.58\n",
      "RSME:0.62\n",
      "\n",
      "Modelo: SGDRegressor\n",
      "R2:0.08\n",
      "RSME:0.92\n",
      "\n",
      "Modelo: GradientBoostingRegressor\n",
      "R2:0.66\n",
      "RSME:0.56\n",
      "\n",
      "Modelo: HuberRegressor\n",
      "R2:-0.0027\n",
      "RSME:0.96\n",
      "\n",
      "Modelo: AdaBoostRegressor\n",
      "R2:-0.21\n",
      "RSME:1.06\n",
      "\n",
      "Modelo: SVR\n",
      "R2:0.089\n",
      "RSME:0.92\n",
      "\n"
     ]
    }
   ],
   "source": [
    "from sklearn.model_selection import train_test_split\n",
    "from sklearn.linear_model import LinearRegression, SGDRegressor, HuberRegressor\n",
    "from sklearn.ensemble import RandomForestRegressor, ExtraTreesRegressor, AdaBoostRegressor, GradientBoostingRegressor\n",
    "from sklearn.svm import SVR\n",
    "\n",
    "X_train, X_test, y_train, y_test = train_test_split(X, y, random_state=1)\n",
    "\n",
    "modelo_rf = RandomForestRegressor()\n",
    "modelo_lr = LinearRegression()\n",
    "modelo_et = ExtraTreesRegressor()\n",
    "modelo_sg = SGDRegressor()\n",
    "modelo_grad = GradientBoostingRegressor()\n",
    "modelo_hub = HuberRegressor()\n",
    "modelo_ada = AdaBoostRegressor()\n",
    "modelo_svr = SVR()\n",
    "\n",
    "modelos = {'RandomForest': modelo_rf,\n",
    "          'LinearRegression': modelo_lr,\n",
    "          'ExtraTrees': modelo_et,\n",
    "          'SGDRegressor': modelo_sg,\n",
    "          'GradientBoostingRegressor': modelo_grad,\n",
    "          'HuberRegressor': modelo_hub,\n",
    "          'AdaBoostRegressor': modelo_ada,\n",
    "          'SVR': modelo_svr}\n",
    "\n",
    "for nome_modelo, modelo in modelos.items():\n",
    "    # treinar\n",
    "    modelo.fit(X_train, y_train)\n",
    "    #testar\n",
    "    previsao = modelo.predict(X_test)\n",
    "    print(avaliar_modelo(nome_modelo,y_test,previsao)) "
   ]
  },
  {
   "cell_type": "markdown",
   "id": "0d7e213c",
   "metadata": {},
   "source": [
    "## Definição do Modelo"
   ]
  },
  {
   "cell_type": "code",
   "execution_count": null,
   "id": "ca1c08d4",
   "metadata": {
    "ExecuteTime": {
     "end_time": "2021-10-16T19:40:01.646555Z",
     "start_time": "2021-10-16T19:39:47.861Z"
    }
   },
   "outputs": [],
   "source": [
    "'''\n",
    "Escolhemos o modelo GradientBoostingRegressor:\n",
    "Modelo: GradientBoostingRegressor\n",
    "R2:66.34%\n",
    "RSME:0.56\n",
    "'''"
   ]
  },
  {
   "cell_type": "code",
   "execution_count": 96,
   "id": "2fc93f23",
   "metadata": {
    "ExecuteTime": {
     "end_time": "2021-10-16T19:41:02.834680Z",
     "start_time": "2021-10-16T19:41:02.632705Z"
    }
   },
   "outputs": [
    {
     "data": {
      "image/png": "[encoded data removed]",
      "text/plain": [
       "<Figure size 1800x360 with 1 Axes>"
      ]
     },
     "metadata": {
      "needs_background": "light"
     },
     "output_type": "display_data"
    }
   ],
   "source": [
    "importancia_feature = pd.DataFrame(modelo_grad.feature_importances_, X_train.columns).sort_values(by=0,ascending=False)\n",
    "plt.figure(figsize=(25,5))\n",
    "grafico = sns.barplot(x= importancia_feature.index, y=importancia_feature[0])\n",
    "grafico.tick_params(axis='x', rotation = 90) \n"
   ]
  },
  {
   "cell_type": "code",
   "execution_count": 110,
   "id": "917b058e",
   "metadata": {
    "ExecuteTime": {
     "end_time": "2021-10-16T19:56:08.323501Z",
     "start_time": "2021-10-16T19:55:16.168502Z"
    }
   },
   "outputs": [
    {
     "name": "stdout",
     "output_type": "stream",
     "text": [
      "Fitting 3 folds for each of 240 candidates, totalling 720 fits\n"
     ]
    },
    {
     "data": {
      "text/plain": [
       "GridSearchCV(cv=3, estimator=GradientBoostingRegressor(), n_jobs=-1,\n",
       "             param_grid={'learning_rate': [0.1, 0.05, 0.02, 0.01],\n",
       "                         'max_depth': [8, 10, 15, 20], 'max_features': [1.0],\n",
       "                         'min_samples_leaf': [5, 7, 10],\n",
       "                         'n_estimators': [20, 30, 50, 100, 500]},\n",
       "             verbose=2)"
      ]
     },
     "execution_count": 110,
     "metadata": {},
     "output_type": "execute_result"
    }
   ],
   "source": [
    "from sklearn.model_selection import GridSearchCV\n",
    "\n",
    "param_grid={'n_estimators':[20, 30, 50, 100, 500], \n",
    "            'learning_rate': [0.1,0.05,0.02, 0.01],\n",
    "            'max_depth':[8, 10, 15, 20], \n",
    "            'min_samples_leaf':[5, 7, 10], \n",
    "            'max_features':[1.0] }\n",
    "\n",
    "clf = GradientBoostingRegressor()\n",
    "\n",
    "grid_search = GridSearchCV(clf, param_grid=param_grid, cv=3, n_jobs=-1, verbose=2)\n",
    "\n",
    "grid_search.fit(X_train, y_train)"
   ]
  },
  {
   "cell_type": "code",
   "execution_count": 111,
   "id": "30e896a2",
   "metadata": {
    "ExecuteTime": {
     "end_time": "2021-10-16T19:56:08.338502Z",
     "start_time": "2021-10-16T19:56:08.324530Z"
    }
   },
   "outputs": [
    {
     "data": {
      "text/plain": [
       "{'learning_rate': 0.05,\n",
       " 'max_depth': 10,\n",
       " 'max_features': 1.0,\n",
       " 'min_samples_leaf': 7,\n",
       " 'n_estimators': 50}"
      ]
     },
     "execution_count": 111,
     "metadata": {},
     "output_type": "execute_result"
    }
   ],
   "source": [
    "grid_search.best_params_"
   ]
  },
  {
   "cell_type": "code",
   "execution_count": 112,
   "id": "3c9a4ae5",
   "metadata": {
    "ExecuteTime": {
     "end_time": "2021-10-16T19:56:13.635546Z",
     "start_time": "2021-10-16T19:56:13.629545Z"
    }
   },
   "outputs": [],
   "source": [
    "clf_best = grid_search.best_estimator_"
   ]
  },
  {
   "cell_type": "code",
   "execution_count": 113,
   "id": "9d30124a",
   "metadata": {
    "ExecuteTime": {
     "end_time": "2021-10-16T19:56:16.094218Z",
     "start_time": "2021-10-16T19:56:16.080222Z"
    }
   },
   "outputs": [
    {
     "name": "stdout",
     "output_type": "stream",
     "text": [
      "Modelo: CLF Best\n",
      "R2:0.67\n",
      "RSME:0.55\n",
      "\n"
     ]
    }
   ],
   "source": [
    "previsao = clf_best.predict(X_test)\n",
    "print(avaliar_modelo('CLF Best',y_test,previsao))"
   ]
  },
  {
   "cell_type": "markdown",
   "id": "4c434a89",
   "metadata": {},
   "source": [
    "# Todos os dados"
   ]
  },
  {
   "cell_type": "code",
   "execution_count": 114,
   "id": "22eae4fa",
   "metadata": {
    "ExecuteTime": {
     "end_time": "2021-10-16T19:58:13.558601Z",
     "start_time": "2021-10-16T19:58:13.541576Z"
    }
   },
   "outputs": [
    {
     "data": {
      "text/plain": [
       "(421570, 17)"
      ]
     },
     "execution_count": 114,
     "metadata": {},
     "output_type": "execute_result"
    }
   ],
   "source": [
    "df_ml_scaled.shape"
   ]
  },
  {
   "cell_type": "code",
   "execution_count": 119,
   "id": "32b6f5f6",
   "metadata": {
    "ExecuteTime": {
     "end_time": "2021-10-16T19:59:48.272095Z",
     "start_time": "2021-10-16T19:59:48.141096Z"
    }
   },
   "outputs": [],
   "source": [
    "X = df_ml_scaled.drop(columns= 'Weekly_Sales')\n",
    "y = df_ml_scaled['Weekly_Sales']\n",
    "X_train, X_test, y_train, y_test = train_test_split(X, y, random_state=1)"
   ]
  },
  {
   "cell_type": "code",
   "execution_count": 120,
   "id": "022ef7ce",
   "metadata": {
    "ExecuteTime": {
     "end_time": "2021-10-16T19:59:50.333134Z",
     "start_time": "2021-10-16T19:59:50.317136Z"
    }
   },
   "outputs": [
    {
     "data": {
      "text/plain": [
       "(316177, 16)"
      ]
     },
     "execution_count": 120,
     "metadata": {},
     "output_type": "execute_result"
    }
   ],
   "source": [
    "X_train.shape"
   ]
  },
  {
   "cell_type": "code",
   "execution_count": 121,
   "id": "f9e8d10e",
   "metadata": {
    "ExecuteTime": {
     "end_time": "2021-10-16T19:59:52.753428Z",
     "start_time": "2021-10-16T19:59:52.747403Z"
    }
   },
   "outputs": [
    {
     "data": {
      "text/plain": [
       "(105393, 16)"
      ]
     },
     "execution_count": 121,
     "metadata": {},
     "output_type": "execute_result"
    }
   ],
   "source": [
    "X_test.shape"
   ]
  },
  {
   "cell_type": "code",
   "execution_count": 122,
   "id": "614e1494",
   "metadata": {
    "ExecuteTime": {
     "end_time": "2021-10-16T20:01:41.407674Z",
     "start_time": "2021-10-16T20:01:41.401641Z"
    }
   },
   "outputs": [
    {
     "data": {
      "text/plain": [
       "{'learning_rate': 0.05,\n",
       " 'max_depth': 10,\n",
       " 'max_features': 1.0,\n",
       " 'min_samples_leaf': 7,\n",
       " 'n_estimators': 50}"
      ]
     },
     "execution_count": 122,
     "metadata": {},
     "output_type": "execute_result"
    }
   ],
   "source": [
    "grid_search.best_params_"
   ]
  },
  {
   "cell_type": "code",
   "execution_count": 130,
   "id": "670f6e06",
   "metadata": {
    "ExecuteTime": {
     "end_time": "2021-10-16T20:14:57.529096Z",
     "start_time": "2021-10-16T20:13:46.073093Z"
    }
   },
   "outputs": [
    {
     "name": "stdout",
     "output_type": "stream",
     "text": [
      "0.9152084136720201 0.2901258028282873\n"
     ]
    }
   ],
   "source": [
    "grad = GradientBoostingRegressor(learning_rate=0.05, max_depth=10, max_features=1.0, \n",
    "                                 min_samples_leaf=7, n_estimators=50)\n",
    "\n",
    "grad.fit(X_train, y_train)\n",
    "y_pred = grad.predict(X_test)\n",
    "\n",
    "r2 = r2_score(y_test, y_pred)\n",
    "RSME = np.sqrt(mean_squared_error(y_test, y_pred))\n",
    "\n",
    "print(r2, RSME)"
   ]
  },
  {
   "cell_type": "code",
   "execution_count": null,
   "id": "97c49a20",
   "metadata": {},
   "outputs": [],
   "source": []
  }
 ],
 "metadata": {
  "hide_input": false,
  "kernelspec": {
   "display_name": "Python 3",
   "language": "python",
   "name": "python3"
  },
  "language_info": {
   "codemirror_mode": {
    "name": "ipython",
    "version": 3
   },
   "file_extension": ".py",
   "mimetype": "text/x-python",
   "name": "python",
   "nbconvert_exporter": "python",
   "pygments_lexer": "ipython3",
   "version": "3.8.8"
  }
 },
 "nbformat": 4,
 "nbformat_minor": 5
}
